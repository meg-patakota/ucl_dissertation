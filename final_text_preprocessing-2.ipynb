{
 "cells": [
  {
   "cell_type": "code",
   "execution_count": 67,
   "metadata": {},
   "outputs": [],
   "source": [
    "# import packages\n",
    "import pandas as pd\n",
    "import json\n",
    "#from flat_table import normalize\n",
    "import ast\n",
    "import re\n",
    "import math\n",
    "import numpy as np"
   ]
  },
  {
   "cell_type": "code",
   "execution_count": 68,
   "metadata": {},
   "outputs": [
    {
     "name": "stderr",
     "output_type": "stream",
     "text": [
      "/opt/anaconda/envs/Python3/lib/python3.8/site-packages/IPython/core/interactiveshell.py:3165: DtypeWarning: Columns (10,11,12) have mixed types.Specify dtype option on import or set low_memory=False.\n",
      "  has_raised = await self.run_ast_nodes(code_ast.body, cell_name,\n"
     ]
    },
    {
     "data": {
      "text/html": [
       "<div>\n",
       "<style scoped>\n",
       "    .dataframe tbody tr th:only-of-type {\n",
       "        vertical-align: middle;\n",
       "    }\n",
       "\n",
       "    .dataframe tbody tr th {\n",
       "        vertical-align: top;\n",
       "    }\n",
       "\n",
       "    .dataframe thead th {\n",
       "        text-align: right;\n",
       "    }\n",
       "</style>\n",
       "<table border=\"1\" class=\"dataframe\">\n",
       "  <thead>\n",
       "    <tr style=\"text-align: right;\">\n",
       "      <th></th>\n",
       "      <th>Unnamed: 0</th>\n",
       "      <th>Unnamed: 0.1</th>\n",
       "      <th>abstract.text</th>\n",
       "      <th>lens_id</th>\n",
       "      <th>jurisdiction</th>\n",
       "      <th>kind</th>\n",
       "      <th>date_published</th>\n",
       "      <th>publication_type</th>\n",
       "      <th>biblio.classifications_cpc.classifications</th>\n",
       "      <th>claims.claims</th>\n",
       "      <th>biblio.invention_title.text</th>\n",
       "      <th>biblio.invention_title.lang</th>\n",
       "      <th>biblio.invention_title</th>\n",
       "    </tr>\n",
       "  </thead>\n",
       "  <tbody>\n",
       "    <tr>\n",
       "      <th>0</th>\n",
       "      <td>0</td>\n",
       "      <td>0</td>\n",
       "      <td>NaN</td>\n",
       "      <td>000-232-863-605-99X</td>\n",
       "      <td>US</td>\n",
       "      <td>S</td>\n",
       "      <td>2016-03-29</td>\n",
       "      <td>DESIGN_RIGHT</td>\n",
       "      <td>NaN</td>\n",
       "      <td>NaN</td>\n",
       "      <td>Toy</td>\n",
       "      <td>en</td>\n",
       "      <td>NaN</td>\n",
       "    </tr>\n",
       "    <tr>\n",
       "      <th>1</th>\n",
       "      <td>1</td>\n",
       "      <td>1</td>\n",
       "      <td>NaN</td>\n",
       "      <td>000-480-956-918-728</td>\n",
       "      <td>US</td>\n",
       "      <td>S</td>\n",
       "      <td>2016-02-09</td>\n",
       "      <td>DESIGN_RIGHT</td>\n",
       "      <td>NaN</td>\n",
       "      <td>NaN</td>\n",
       "      <td>Signal indicator lamp</td>\n",
       "      <td>en</td>\n",
       "      <td>NaN</td>\n",
       "    </tr>\n",
       "    <tr>\n",
       "      <th>2</th>\n",
       "      <td>2</td>\n",
       "      <td>2</td>\n",
       "      <td>NaN</td>\n",
       "      <td>001-158-853-914-602</td>\n",
       "      <td>US</td>\n",
       "      <td>S</td>\n",
       "      <td>2016-03-01</td>\n",
       "      <td>DESIGN_RIGHT</td>\n",
       "      <td>NaN</td>\n",
       "      <td>NaN</td>\n",
       "      <td>Package for a medicinal product</td>\n",
       "      <td>en</td>\n",
       "      <td>NaN</td>\n",
       "    </tr>\n",
       "    <tr>\n",
       "      <th>3</th>\n",
       "      <td>3</td>\n",
       "      <td>3</td>\n",
       "      <td>NaN</td>\n",
       "      <td>001-188-401-116-076</td>\n",
       "      <td>US</td>\n",
       "      <td>S</td>\n",
       "      <td>2016-03-15</td>\n",
       "      <td>DESIGN_RIGHT</td>\n",
       "      <td>NaN</td>\n",
       "      <td>NaN</td>\n",
       "      <td>Name plate for a tabletop</td>\n",
       "      <td>en</td>\n",
       "      <td>NaN</td>\n",
       "    </tr>\n",
       "    <tr>\n",
       "      <th>4</th>\n",
       "      <td>4</td>\n",
       "      <td>4</td>\n",
       "      <td>Systems, methods, and apparatuses are provided...</td>\n",
       "      <td>001-215-454-810-863</td>\n",
       "      <td>US</td>\n",
       "      <td>B2</td>\n",
       "      <td>2016-03-15</td>\n",
       "      <td>GRANTED_PATENT</td>\n",
       "      <td>A61N5/1049,A61N5/1049,A61B5/0036,A61B5/0036,A6...</td>\n",
       "      <td>1. A system comprising: an imaging element con...</td>\n",
       "      <td>Imaging observation timing for assisting radia...</td>\n",
       "      <td>en</td>\n",
       "      <td>NaN</td>\n",
       "    </tr>\n",
       "  </tbody>\n",
       "</table>\n",
       "</div>"
      ],
      "text/plain": [
       "   Unnamed: 0  Unnamed: 0.1  \\\n",
       "0           0             0   \n",
       "1           1             1   \n",
       "2           2             2   \n",
       "3           3             3   \n",
       "4           4             4   \n",
       "\n",
       "                                       abstract.text              lens_id  \\\n",
       "0                                                NaN  000-232-863-605-99X   \n",
       "1                                                NaN  000-480-956-918-728   \n",
       "2                                                NaN  001-158-853-914-602   \n",
       "3                                                NaN  001-188-401-116-076   \n",
       "4  Systems, methods, and apparatuses are provided...  001-215-454-810-863   \n",
       "\n",
       "  jurisdiction kind date_published publication_type  \\\n",
       "0           US    S     2016-03-29     DESIGN_RIGHT   \n",
       "1           US    S     2016-02-09     DESIGN_RIGHT   \n",
       "2           US    S     2016-03-01     DESIGN_RIGHT   \n",
       "3           US    S     2016-03-15     DESIGN_RIGHT   \n",
       "4           US   B2     2016-03-15   GRANTED_PATENT   \n",
       "\n",
       "          biblio.classifications_cpc.classifications  \\\n",
       "0                                                NaN   \n",
       "1                                                NaN   \n",
       "2                                                NaN   \n",
       "3                                                NaN   \n",
       "4  A61N5/1049,A61N5/1049,A61B5/0036,A61B5/0036,A6...   \n",
       "\n",
       "                                       claims.claims  \\\n",
       "0                                                NaN   \n",
       "1                                                NaN   \n",
       "2                                                NaN   \n",
       "3                                                NaN   \n",
       "4  1. A system comprising: an imaging element con...   \n",
       "\n",
       "                         biblio.invention_title.text  \\\n",
       "0                                                Toy   \n",
       "1                              Signal indicator lamp   \n",
       "2                    Package for a medicinal product   \n",
       "3                          Name plate for a tabletop   \n",
       "4  Imaging observation timing for assisting radia...   \n",
       "\n",
       "  biblio.invention_title.lang biblio.invention_title  \n",
       "0                          en                    NaN  \n",
       "1                          en                    NaN  \n",
       "2                          en                    NaN  \n",
       "3                          en                    NaN  \n",
       "4                          en                    NaN  "
      ]
     },
     "execution_count": 68,
     "metadata": {},
     "output_type": "execute_result"
    }
   ],
   "source": [
    "# load the package\n",
    "final_df = pd.read_csv('/project/all_data.csv')\n",
    "final_df.head()"
   ]
  },
  {
   "cell_type": "code",
   "execution_count": 69,
   "metadata": {},
   "outputs": [
    {
     "data": {
      "text/html": [
       "<div>\n",
       "<style scoped>\n",
       "    .dataframe tbody tr th:only-of-type {\n",
       "        vertical-align: middle;\n",
       "    }\n",
       "\n",
       "    .dataframe tbody tr th {\n",
       "        vertical-align: top;\n",
       "    }\n",
       "\n",
       "    .dataframe thead th {\n",
       "        text-align: right;\n",
       "    }\n",
       "</style>\n",
       "<table border=\"1\" class=\"dataframe\">\n",
       "  <thead>\n",
       "    <tr style=\"text-align: right;\">\n",
       "      <th></th>\n",
       "      <th>Unnamed: 0</th>\n",
       "      <th>Unnamed: 0.1</th>\n",
       "      <th>abstract.text</th>\n",
       "      <th>lens_id</th>\n",
       "      <th>jurisdiction</th>\n",
       "      <th>kind</th>\n",
       "      <th>date_published</th>\n",
       "      <th>publication_type</th>\n",
       "      <th>biblio.classifications_cpc.classifications</th>\n",
       "      <th>claims.claims</th>\n",
       "      <th>biblio.invention_title.text</th>\n",
       "      <th>biblio.invention_title.lang</th>\n",
       "      <th>biblio.invention_title</th>\n",
       "    </tr>\n",
       "  </thead>\n",
       "  <tbody>\n",
       "    <tr>\n",
       "      <th>0</th>\n",
       "      <td>0</td>\n",
       "      <td>0</td>\n",
       "      <td>NaN</td>\n",
       "      <td>000-232-863-605-99X</td>\n",
       "      <td>US</td>\n",
       "      <td>S</td>\n",
       "      <td>2016-03-29</td>\n",
       "      <td>DESIGN_RIGHT</td>\n",
       "      <td>NaN</td>\n",
       "      <td>NaN</td>\n",
       "      <td>Toy</td>\n",
       "      <td>en</td>\n",
       "      <td>NaN</td>\n",
       "    </tr>\n",
       "    <tr>\n",
       "      <th>1</th>\n",
       "      <td>1</td>\n",
       "      <td>1</td>\n",
       "      <td>NaN</td>\n",
       "      <td>000-480-956-918-728</td>\n",
       "      <td>US</td>\n",
       "      <td>S</td>\n",
       "      <td>2016-02-09</td>\n",
       "      <td>DESIGN_RIGHT</td>\n",
       "      <td>NaN</td>\n",
       "      <td>NaN</td>\n",
       "      <td>Signal indicator lamp</td>\n",
       "      <td>en</td>\n",
       "      <td>NaN</td>\n",
       "    </tr>\n",
       "    <tr>\n",
       "      <th>2</th>\n",
       "      <td>2</td>\n",
       "      <td>2</td>\n",
       "      <td>NaN</td>\n",
       "      <td>001-158-853-914-602</td>\n",
       "      <td>US</td>\n",
       "      <td>S</td>\n",
       "      <td>2016-03-01</td>\n",
       "      <td>DESIGN_RIGHT</td>\n",
       "      <td>NaN</td>\n",
       "      <td>NaN</td>\n",
       "      <td>Package for a medicinal product</td>\n",
       "      <td>en</td>\n",
       "      <td>NaN</td>\n",
       "    </tr>\n",
       "    <tr>\n",
       "      <th>3</th>\n",
       "      <td>3</td>\n",
       "      <td>3</td>\n",
       "      <td>NaN</td>\n",
       "      <td>001-188-401-116-076</td>\n",
       "      <td>US</td>\n",
       "      <td>S</td>\n",
       "      <td>2016-03-15</td>\n",
       "      <td>DESIGN_RIGHT</td>\n",
       "      <td>NaN</td>\n",
       "      <td>NaN</td>\n",
       "      <td>Name plate for a tabletop</td>\n",
       "      <td>en</td>\n",
       "      <td>NaN</td>\n",
       "    </tr>\n",
       "    <tr>\n",
       "      <th>4</th>\n",
       "      <td>4</td>\n",
       "      <td>4</td>\n",
       "      <td>Systems, methods, and apparatuses are provided...</td>\n",
       "      <td>001-215-454-810-863</td>\n",
       "      <td>US</td>\n",
       "      <td>B2</td>\n",
       "      <td>2016-03-15</td>\n",
       "      <td>GRANTED_PATENT</td>\n",
       "      <td>A61N5/1049,A61N5/1049,A61B5/0036,A61B5/0036,A6...</td>\n",
       "      <td>1. A system comprising: an imaging element con...</td>\n",
       "      <td>Imaging observation timing for assisting radia...</td>\n",
       "      <td>en</td>\n",
       "      <td>NaN</td>\n",
       "    </tr>\n",
       "  </tbody>\n",
       "</table>\n",
       "</div>"
      ],
      "text/plain": [
       "   Unnamed: 0  Unnamed: 0.1  \\\n",
       "0           0             0   \n",
       "1           1             1   \n",
       "2           2             2   \n",
       "3           3             3   \n",
       "4           4             4   \n",
       "\n",
       "                                       abstract.text              lens_id  \\\n",
       "0                                                NaN  000-232-863-605-99X   \n",
       "1                                                NaN  000-480-956-918-728   \n",
       "2                                                NaN  001-158-853-914-602   \n",
       "3                                                NaN  001-188-401-116-076   \n",
       "4  Systems, methods, and apparatuses are provided...  001-215-454-810-863   \n",
       "\n",
       "  jurisdiction kind date_published publication_type  \\\n",
       "0           US    S     2016-03-29     DESIGN_RIGHT   \n",
       "1           US    S     2016-02-09     DESIGN_RIGHT   \n",
       "2           US    S     2016-03-01     DESIGN_RIGHT   \n",
       "3           US    S     2016-03-15     DESIGN_RIGHT   \n",
       "4           US   B2     2016-03-15   GRANTED_PATENT   \n",
       "\n",
       "          biblio.classifications_cpc.classifications  \\\n",
       "0                                                NaN   \n",
       "1                                                NaN   \n",
       "2                                                NaN   \n",
       "3                                                NaN   \n",
       "4  A61N5/1049,A61N5/1049,A61B5/0036,A61B5/0036,A6...   \n",
       "\n",
       "                                       claims.claims  \\\n",
       "0                                                NaN   \n",
       "1                                                NaN   \n",
       "2                                                NaN   \n",
       "3                                                NaN   \n",
       "4  1. A system comprising: an imaging element con...   \n",
       "\n",
       "                         biblio.invention_title.text  \\\n",
       "0                                                Toy   \n",
       "1                              Signal indicator lamp   \n",
       "2                    Package for a medicinal product   \n",
       "3                          Name plate for a tabletop   \n",
       "4  Imaging observation timing for assisting radia...   \n",
       "\n",
       "  biblio.invention_title.lang biblio.invention_title  \n",
       "0                          en                    NaN  \n",
       "1                          en                    NaN  \n",
       "2                          en                    NaN  \n",
       "3                          en                    NaN  \n",
       "4                          en                    NaN  "
      ]
     },
     "execution_count": 69,
     "metadata": {},
     "output_type": "execute_result"
    }
   ],
   "source": [
    "# final_df = final_df[final_df['biblio.invention_title.text'].notna()]\n",
    "final_df.head()"
   ]
  },
  {
   "cell_type": "code",
   "execution_count": 70,
   "metadata": {},
   "outputs": [
    {
     "data": {
      "text/plain": [
       "abstract.text                                  28908\n",
       "lens_id                                            0\n",
       "jurisdiction                                       0\n",
       "kind                                               0\n",
       "date_published                                     0\n",
       "publication_type                                   0\n",
       "biblio.classifications_cpc.classifications     29174\n",
       "claims.claims                                  28876\n",
       "biblio.invention_title.text                   178577\n",
       "dtype: int64"
      ]
     },
     "execution_count": 70,
     "metadata": {},
     "output_type": "execute_result"
    }
   ],
   "source": [
    "final_df = final_df.drop(columns=['biblio.invention_title','biblio.invention_title.lang'])\n",
    "# drop column\n",
    "final_df = final_df.drop(columns=['Unnamed: 0'])\n",
    "final_df = final_df.drop(columns=['Unnamed: 0.1'])\n",
    "\n",
    "final_df.isna().sum()"
   ]
  },
  {
   "cell_type": "code",
   "execution_count": 71,
   "metadata": {},
   "outputs": [
    {
     "data": {
      "text/plain": [
       "(28874, 9)"
      ]
     },
     "execution_count": 71,
     "metadata": {},
     "output_type": "execute_result"
    }
   ],
   "source": [
    "# check cpc null values for \"DESIGN RIGHT\"\n",
    "dr = final_df[final_df['publication_type'] == \"DESIGN_RIGHT\"]\n",
    "dr.shape"
   ]
  },
  {
   "cell_type": "code",
   "execution_count": 72,
   "metadata": {},
   "outputs": [
    {
     "data": {
      "text/plain": [
       "abstract.text                                    349\n",
       "lens_id                                            0\n",
       "jurisdiction                                       0\n",
       "kind                                               0\n",
       "date_published                                     0\n",
       "publication_type                                   0\n",
       "biblio.classifications_cpc.classifications         0\n",
       "claims.claims                                    350\n",
       "biblio.invention_title.text                   170971\n",
       "cpc                                                0\n",
       "dtype: int64"
      ]
     },
     "execution_count": 72,
     "metadata": {},
     "output_type": "execute_result"
    }
   ],
   "source": [
    "# drop null values\n",
    "final_df['cpc'] = final_df['biblio.classifications_cpc.classifications'].dropna(axis=0,how='any')\n",
    "final_df = final_df[final_df['cpc'].notna()]\n",
    "final_df.isna().sum()"
   ]
  },
  {
   "cell_type": "code",
   "execution_count": 73,
   "metadata": {},
   "outputs": [],
   "source": [
    "# # replace \n",
    "# final_df['biblio.invention_title'].replace(np.nan,'unknown', regex=True)\n",
    "# final_df['abstract.text'].replace(np.nan,'unknown', regex=True)"
   ]
  },
  {
   "cell_type": "code",
   "execution_count": 74,
   "metadata": {},
   "outputs": [],
   "source": [
    "# binary classification for cpc\n",
    "final_df[\"yo2\"]= final_df[\"biblio.classifications_cpc.classifications\"].apply(lambda series: 1 if series.find('Y02')!=-1 else 0)"
   ]
  },
  {
   "cell_type": "code",
   "execution_count": 75,
   "metadata": {},
   "outputs": [
    {
     "data": {
      "text/html": [
       "<div>\n",
       "<style scoped>\n",
       "    .dataframe tbody tr th:only-of-type {\n",
       "        vertical-align: middle;\n",
       "    }\n",
       "\n",
       "    .dataframe tbody tr th {\n",
       "        vertical-align: top;\n",
       "    }\n",
       "\n",
       "    .dataframe thead th {\n",
       "        text-align: right;\n",
       "    }\n",
       "</style>\n",
       "<table border=\"1\" class=\"dataframe\">\n",
       "  <thead>\n",
       "    <tr style=\"text-align: right;\">\n",
       "      <th></th>\n",
       "      <th>abstract.text</th>\n",
       "      <th>lens_id</th>\n",
       "      <th>jurisdiction</th>\n",
       "      <th>kind</th>\n",
       "      <th>date_published</th>\n",
       "      <th>publication_type</th>\n",
       "      <th>biblio.classifications_cpc.classifications</th>\n",
       "      <th>claims.claims</th>\n",
       "      <th>biblio.invention_title.text</th>\n",
       "      <th>cpc</th>\n",
       "      <th>yo2</th>\n",
       "    </tr>\n",
       "  </thead>\n",
       "  <tbody>\n",
       "    <tr>\n",
       "      <th>4</th>\n",
       "      <td>Systems, methods, and apparatuses are provided...</td>\n",
       "      <td>001-215-454-810-863</td>\n",
       "      <td>US</td>\n",
       "      <td>B2</td>\n",
       "      <td>2016-03-15</td>\n",
       "      <td>GRANTED_PATENT</td>\n",
       "      <td>A61N5/1049,A61N5/1049,A61B5/0036,A61B5/0036,A6...</td>\n",
       "      <td>1. A system comprising: an imaging element con...</td>\n",
       "      <td>Imaging observation timing for assisting radia...</td>\n",
       "      <td>A61N5/1049,A61N5/1049,A61B5/0036,A61B5/0036,A6...</td>\n",
       "      <td>0</td>\n",
       "    </tr>\n",
       "    <tr>\n",
       "      <th>8</th>\n",
       "      <td>Memoizable functions may be identified by anal...</td>\n",
       "      <td>002-479-253-838-718</td>\n",
       "      <td>US</td>\n",
       "      <td>B2</td>\n",
       "      <td>2016-02-16</td>\n",
       "      <td>GRANTED_PATENT</td>\n",
       "      <td>G06F16/2308,G06F8/4441,G06F11/3616,G06F16/2455...</td>\n",
       "      <td>1. A computer-implemented method of performing...</td>\n",
       "      <td>Purity analysis using white list/black list an...</td>\n",
       "      <td>G06F16/2308,G06F8/4441,G06F11/3616,G06F16/2455...</td>\n",
       "      <td>0</td>\n",
       "    </tr>\n",
       "    <tr>\n",
       "      <th>9</th>\n",
       "      <td>This system provides wired and/or wireless acc...</td>\n",
       "      <td>002-813-480-436-824</td>\n",
       "      <td>US</td>\n",
       "      <td>B2</td>\n",
       "      <td>2016-03-29</td>\n",
       "      <td>GRANTED_PATENT</td>\n",
       "      <td>G06F21/10,G06F21/10,G06F16/40,G06F21/6218,G06F...</td>\n",
       "      <td>1. A multimedia management system for managing...</td>\n",
       "      <td>Multimedia network system with content importa...</td>\n",
       "      <td>G06F21/10,G06F21/10,G06F16/40,G06F21/6218,G06F...</td>\n",
       "      <td>0</td>\n",
       "    </tr>\n",
       "    <tr>\n",
       "      <th>10</th>\n",
       "      <td>A new, distinct Geum plant as shown and descri...</td>\n",
       "      <td>004-133-132-043-147</td>\n",
       "      <td>US</td>\n",
       "      <td>P2</td>\n",
       "      <td>2016-03-01</td>\n",
       "      <td>PLANT_PATENT</td>\n",
       "      <td>A01H6/74,A01H5/02,</td>\n",
       "      <td>1. A new, distinct Geum plant as illustrated a...</td>\n",
       "      <td>Geum plant named ‘Sea Breeze’</td>\n",
       "      <td>A01H6/74,A01H5/02,</td>\n",
       "      <td>0</td>\n",
       "    </tr>\n",
       "    <tr>\n",
       "      <th>16</th>\n",
       "      <td>An automated banking machine controlled respon...</td>\n",
       "      <td>006-135-481-468-129</td>\n",
       "      <td>US</td>\n",
       "      <td>B2</td>\n",
       "      <td>2016-03-01</td>\n",
       "      <td>GRANTED_PATENT</td>\n",
       "      <td>G07F19/20,G07F19/20,G06Q40/02,G06Q40/02,G07D7/...</td>\n",
       "      <td>1. A tangible, non-transitory computer readabl...</td>\n",
       "      <td>Automated banking machine that operates respon...</td>\n",
       "      <td>G07F19/20,G07F19/20,G06Q40/02,G06Q40/02,G07D7/...</td>\n",
       "      <td>0</td>\n",
       "    </tr>\n",
       "  </tbody>\n",
       "</table>\n",
       "</div>"
      ],
      "text/plain": [
       "                                        abstract.text              lens_id  \\\n",
       "4   Systems, methods, and apparatuses are provided...  001-215-454-810-863   \n",
       "8   Memoizable functions may be identified by anal...  002-479-253-838-718   \n",
       "9   This system provides wired and/or wireless acc...  002-813-480-436-824   \n",
       "10  A new, distinct Geum plant as shown and descri...  004-133-132-043-147   \n",
       "16  An automated banking machine controlled respon...  006-135-481-468-129   \n",
       "\n",
       "   jurisdiction kind date_published publication_type  \\\n",
       "4            US   B2     2016-03-15   GRANTED_PATENT   \n",
       "8            US   B2     2016-02-16   GRANTED_PATENT   \n",
       "9            US   B2     2016-03-29   GRANTED_PATENT   \n",
       "10           US   P2     2016-03-01     PLANT_PATENT   \n",
       "16           US   B2     2016-03-01   GRANTED_PATENT   \n",
       "\n",
       "           biblio.classifications_cpc.classifications  \\\n",
       "4   A61N5/1049,A61N5/1049,A61B5/0036,A61B5/0036,A6...   \n",
       "8   G06F16/2308,G06F8/4441,G06F11/3616,G06F16/2455...   \n",
       "9   G06F21/10,G06F21/10,G06F16/40,G06F21/6218,G06F...   \n",
       "10                                 A01H6/74,A01H5/02,   \n",
       "16  G07F19/20,G07F19/20,G06Q40/02,G06Q40/02,G07D7/...   \n",
       "\n",
       "                                        claims.claims  \\\n",
       "4   1. A system comprising: an imaging element con...   \n",
       "8   1. A computer-implemented method of performing...   \n",
       "9   1. A multimedia management system for managing...   \n",
       "10  1. A new, distinct Geum plant as illustrated a...   \n",
       "16  1. A tangible, non-transitory computer readabl...   \n",
       "\n",
       "                          biblio.invention_title.text  \\\n",
       "4   Imaging observation timing for assisting radia...   \n",
       "8   Purity analysis using white list/black list an...   \n",
       "9   Multimedia network system with content importa...   \n",
       "10                      Geum plant named ‘Sea Breeze’   \n",
       "16  Automated banking machine that operates respon...   \n",
       "\n",
       "                                                  cpc  yo2  \n",
       "4   A61N5/1049,A61N5/1049,A61B5/0036,A61B5/0036,A6...    0  \n",
       "8   G06F16/2308,G06F8/4441,G06F11/3616,G06F16/2455...    0  \n",
       "9   G06F21/10,G06F21/10,G06F16/40,G06F21/6218,G06F...    0  \n",
       "10                                 A01H6/74,A01H5/02,    0  \n",
       "16  G07F19/20,G07F19/20,G06Q40/02,G06Q40/02,G07D7/...    0  "
      ]
     },
     "execution_count": 75,
     "metadata": {},
     "output_type": "execute_result"
    }
   ],
   "source": [
    "final_df.head()"
   ]
  },
  {
   "cell_type": "code",
   "execution_count": 76,
   "metadata": {},
   "outputs": [
    {
     "data": {
      "text/plain": [
       "abstract.text                                    349\n",
       "lens_id                                            0\n",
       "jurisdiction                                       0\n",
       "kind                                               0\n",
       "date_published                                     0\n",
       "publication_type                                   0\n",
       "biblio.classifications_cpc.classifications         0\n",
       "claims.claims                                    350\n",
       "biblio.invention_title.text                   170971\n",
       "cpc                                                0\n",
       "yo2                                                0\n",
       "dtype: int64"
      ]
     },
     "execution_count": 76,
     "metadata": {},
     "output_type": "execute_result"
    }
   ],
   "source": [
    "final_df.isna().sum()"
   ]
  },
  {
   "cell_type": "code",
   "execution_count": 77,
   "metadata": {},
   "outputs": [],
   "source": [
    "# fill null values with \"unknown\"\n",
    "final_df['biblio.invention_title.text'] = final_df['biblio.invention_title.text'].fillna('unknown')\n",
    "final_df['abstract.text'] = final_df['abstract.text'].fillna('unknown')\n",
    "final_df['claims.claims'] = final_df['claims.claims'].fillna('unknown')"
   ]
  },
  {
   "cell_type": "code",
   "execution_count": 78,
   "metadata": {},
   "outputs": [
    {
     "data": {
      "text/plain": [
       "abstract.text                                 0\n",
       "lens_id                                       0\n",
       "jurisdiction                                  0\n",
       "kind                                          0\n",
       "date_published                                0\n",
       "publication_type                              0\n",
       "biblio.classifications_cpc.classifications    0\n",
       "claims.claims                                 0\n",
       "biblio.invention_title.text                   0\n",
       "cpc                                           0\n",
       "yo2                                           0\n",
       "dtype: int64"
      ]
     },
     "execution_count": 78,
     "metadata": {},
     "output_type": "execute_result"
    }
   ],
   "source": [
    "final_df.isna().sum()"
   ]
  },
  {
   "cell_type": "code",
   "execution_count": 79,
   "metadata": {},
   "outputs": [],
   "source": [
    "import nltk\n",
    "#nltk.download('punkt')\n",
    "#nltk.download('stopwords')"
   ]
  },
  {
   "cell_type": "code",
   "execution_count": 80,
   "metadata": {},
   "outputs": [
    {
     "data": {
      "text/plain": [
       "4         systems, methods, and apparatuses are provided...\n",
       "8         memoizable functions may be identified by anal...\n",
       "9         this system provides wired and/or wireless acc...\n",
       "10        a new, distinct geum plant as shown and descri...\n",
       "16        an automated banking machine controlled respon...\n",
       "                                ...                        \n",
       "716449    a tape cassette that includes a housing having...\n",
       "716450    laser 3d imaging techniques include splitting ...\n",
       "716451    a cooling apparatus includes a coolant circula...\n",
       "716452    in one embodiment, an apparatus includes: a ho...\n",
       "716453    embodiments of the present disclosure are dire...\n",
       "Name: abstract.text_lower, Length: 687280, dtype: object"
      ]
     },
     "execution_count": 80,
     "metadata": {},
     "output_type": "execute_result"
    }
   ],
   "source": [
    "# lower case variables\n",
    "def clean_lowercase(review_text):\n",
    "    return str(review_text).lower()\n",
    "final_df['abstract.text_lower'] = final_df['abstract.text'].apply(clean_lowercase)\n",
    "final_df['abstract.text_lower']"
   ]
  },
  {
   "cell_type": "code",
   "execution_count": 81,
   "metadata": {},
   "outputs": [
    {
     "data": {
      "text/plain": [
       "4         systems  methods  and apparatuses are provided...\n",
       "8         memoizable functions may be identified by anal...\n",
       "9         this system provides wired and or wireless acc...\n",
       "10        a new  distinct geum plant as shown and descri...\n",
       "16        an automated banking machine controlled respon...\n",
       "                                ...                        \n",
       "716449    a tape cassette that includes a housing having...\n",
       "716450    laser 3d imaging techniques include splitting ...\n",
       "716451    a cooling apparatus includes a coolant circula...\n",
       "716452    in one embodiment  an apparatus includes  a ho...\n",
       "716453    embodiments of the present disclosure are dire...\n",
       "Name: abstract.text_punctbef, Length: 687280, dtype: object"
      ]
     },
     "execution_count": 81,
     "metadata": {},
     "output_type": "execute_result"
    }
   ],
   "source": [
    "# removing punctuation\n",
    "def remove_before_token(sentence, keep_apostrophe = False):\n",
    "    sentence = sentence.strip()\n",
    "    if keep_apostrophe:\n",
    "        PATTERN = r'[?|$|&|*|%|@|(|)|~]'\n",
    "        filtered_sentence = re.sub(PATTERN, r' ', sentence)\n",
    "    else :\n",
    "        PATTERN = r'[^a-zA-Z0-9]'\n",
    "        filtered_sentence = re.sub(PATTERN, r' ', sentence)\n",
    "    return(filtered_sentence)\n",
    "\n",
    "final_df['abstract.text_punctbef'] = final_df['abstract.text_lower'].apply(remove_before_token)\n",
    "final_df['abstract.text_punctbef']"
   ]
  },
  {
   "cell_type": "code",
   "execution_count": 82,
   "metadata": {},
   "outputs": [
    {
     "data": {
      "text/plain": [
       "4         systems  methods  and apparatuses are provided...\n",
       "8         memoizable functions may be identified by anal...\n",
       "9         this system provides wired and or wireless acc...\n",
       "10        a new  distinct geum plant as shown and descri...\n",
       "16        an automated banking machine controlled respon...\n",
       "                                ...                        \n",
       "716449    a tape cassette that includes a housing having...\n",
       "716450    laser d imaging techniques include splitting a...\n",
       "716451    a cooling apparatus includes a coolant circula...\n",
       "716452    in one embodiment  an apparatus includes  a ho...\n",
       "716453    embodiments of the present disclosure are dire...\n",
       "Name: abstract.text_no, Length: 687280, dtype: object"
      ]
     },
     "execution_count": 82,
     "metadata": {},
     "output_type": "execute_result"
    }
   ],
   "source": [
    "# remove numbers\n",
    "def clean_text(text):\n",
    "    text_nonum = re.sub(r'\\d+', '', text)\n",
    "    return text_nonum\n",
    "\n",
    "final_df['abstract.text_no'] = final_df['abstract.text_punctbef'].apply(clean_text)\n",
    "final_df['abstract.text_no']"
   ]
  },
  {
   "cell_type": "code",
   "execution_count": 83,
   "metadata": {},
   "outputs": [
    {
     "data": {
      "text/plain": [
       "4         systems methods apparatuses provided targeting...\n",
       "8         memoizable functions may identified analyzing ...\n",
       "9         system provides wired wireless access througho...\n",
       "10        new distinct geum plant shown described charac...\n",
       "16        automated banking machine controlled responsiv...\n",
       "                                ...                        \n",
       "716449    tape cassette includes housing top surface bot...\n",
       "716450    laser imaging techniques include splitting las...\n",
       "716451    cooling apparatus includes coolant circulation...\n",
       "716452    one embodiment apparatus includes housing incl...\n",
       "716453    embodiments present disclosure directed system...\n",
       "Name: abstract.text_sw, Length: 687280, dtype: object"
      ]
     },
     "execution_count": 83,
     "metadata": {},
     "output_type": "execute_result"
    }
   ],
   "source": [
    "from nltk.corpus import stopwords\n",
    "#stopwords.words('english')\n",
    "stop_words = stopwords.words('english')\n",
    "\n",
    "def clean_stopwords(document):\n",
    "    return' '.join([word for word in document.split() if word not in stop_words])\n",
    "\n",
    "final_df['abstract.text_sw'] = final_df['abstract.text_no'].apply(clean_stopwords)\n",
    "final_df['abstract.text_sw']"
   ]
  },
  {
   "cell_type": "code",
   "execution_count": 84,
   "metadata": {},
   "outputs": [
    {
     "data": {
      "text/html": [
       "<div>\n",
       "<style scoped>\n",
       "    .dataframe tbody tr th:only-of-type {\n",
       "        vertical-align: middle;\n",
       "    }\n",
       "\n",
       "    .dataframe tbody tr th {\n",
       "        vertical-align: top;\n",
       "    }\n",
       "\n",
       "    .dataframe thead th {\n",
       "        text-align: right;\n",
       "    }\n",
       "</style>\n",
       "<table border=\"1\" class=\"dataframe\">\n",
       "  <thead>\n",
       "    <tr style=\"text-align: right;\">\n",
       "      <th></th>\n",
       "      <th>abstract.text</th>\n",
       "      <th>lens_id</th>\n",
       "      <th>jurisdiction</th>\n",
       "      <th>kind</th>\n",
       "      <th>date_published</th>\n",
       "      <th>publication_type</th>\n",
       "      <th>biblio.classifications_cpc.classifications</th>\n",
       "      <th>claims.claims</th>\n",
       "      <th>biblio.invention_title.text</th>\n",
       "      <th>cpc</th>\n",
       "      <th>yo2</th>\n",
       "      <th>abstract.text_lower</th>\n",
       "      <th>abstract.text_punctbef</th>\n",
       "      <th>abstract.text_no</th>\n",
       "      <th>abstract.text_sw</th>\n",
       "    </tr>\n",
       "  </thead>\n",
       "  <tbody>\n",
       "    <tr>\n",
       "      <th>4</th>\n",
       "      <td>Systems, methods, and apparatuses are provided...</td>\n",
       "      <td>001-215-454-810-863</td>\n",
       "      <td>US</td>\n",
       "      <td>B2</td>\n",
       "      <td>2016-03-15</td>\n",
       "      <td>GRANTED_PATENT</td>\n",
       "      <td>A61N5/1049,A61N5/1049,A61B5/0036,A61B5/0036,A6...</td>\n",
       "      <td>1. A system comprising: an imaging element con...</td>\n",
       "      <td>Imaging observation timing for assisting radia...</td>\n",
       "      <td>A61N5/1049,A61N5/1049,A61B5/0036,A61B5/0036,A6...</td>\n",
       "      <td>0</td>\n",
       "      <td>systems, methods, and apparatuses are provided...</td>\n",
       "      <td>systems  methods  and apparatuses are provided...</td>\n",
       "      <td>systems  methods  and apparatuses are provided...</td>\n",
       "      <td>systems methods apparatuses provided targeting...</td>\n",
       "    </tr>\n",
       "    <tr>\n",
       "      <th>8</th>\n",
       "      <td>Memoizable functions may be identified by anal...</td>\n",
       "      <td>002-479-253-838-718</td>\n",
       "      <td>US</td>\n",
       "      <td>B2</td>\n",
       "      <td>2016-02-16</td>\n",
       "      <td>GRANTED_PATENT</td>\n",
       "      <td>G06F16/2308,G06F8/4441,G06F11/3616,G06F16/2455...</td>\n",
       "      <td>1. A computer-implemented method of performing...</td>\n",
       "      <td>Purity analysis using white list/black list an...</td>\n",
       "      <td>G06F16/2308,G06F8/4441,G06F11/3616,G06F16/2455...</td>\n",
       "      <td>0</td>\n",
       "      <td>memoizable functions may be identified by anal...</td>\n",
       "      <td>memoizable functions may be identified by anal...</td>\n",
       "      <td>memoizable functions may be identified by anal...</td>\n",
       "      <td>memoizable functions may identified analyzing ...</td>\n",
       "    </tr>\n",
       "    <tr>\n",
       "      <th>9</th>\n",
       "      <td>This system provides wired and/or wireless acc...</td>\n",
       "      <td>002-813-480-436-824</td>\n",
       "      <td>US</td>\n",
       "      <td>B2</td>\n",
       "      <td>2016-03-29</td>\n",
       "      <td>GRANTED_PATENT</td>\n",
       "      <td>G06F21/10,G06F21/10,G06F16/40,G06F21/6218,G06F...</td>\n",
       "      <td>1. A multimedia management system for managing...</td>\n",
       "      <td>Multimedia network system with content importa...</td>\n",
       "      <td>G06F21/10,G06F21/10,G06F16/40,G06F21/6218,G06F...</td>\n",
       "      <td>0</td>\n",
       "      <td>this system provides wired and/or wireless acc...</td>\n",
       "      <td>this system provides wired and or wireless acc...</td>\n",
       "      <td>this system provides wired and or wireless acc...</td>\n",
       "      <td>system provides wired wireless access througho...</td>\n",
       "    </tr>\n",
       "    <tr>\n",
       "      <th>10</th>\n",
       "      <td>A new, distinct Geum plant as shown and descri...</td>\n",
       "      <td>004-133-132-043-147</td>\n",
       "      <td>US</td>\n",
       "      <td>P2</td>\n",
       "      <td>2016-03-01</td>\n",
       "      <td>PLANT_PATENT</td>\n",
       "      <td>A01H6/74,A01H5/02,</td>\n",
       "      <td>1. A new, distinct Geum plant as illustrated a...</td>\n",
       "      <td>Geum plant named ‘Sea Breeze’</td>\n",
       "      <td>A01H6/74,A01H5/02,</td>\n",
       "      <td>0</td>\n",
       "      <td>a new, distinct geum plant as shown and descri...</td>\n",
       "      <td>a new  distinct geum plant as shown and descri...</td>\n",
       "      <td>a new  distinct geum plant as shown and descri...</td>\n",
       "      <td>new distinct geum plant shown described charac...</td>\n",
       "    </tr>\n",
       "    <tr>\n",
       "      <th>16</th>\n",
       "      <td>An automated banking machine controlled respon...</td>\n",
       "      <td>006-135-481-468-129</td>\n",
       "      <td>US</td>\n",
       "      <td>B2</td>\n",
       "      <td>2016-03-01</td>\n",
       "      <td>GRANTED_PATENT</td>\n",
       "      <td>G07F19/20,G07F19/20,G06Q40/02,G06Q40/02,G07D7/...</td>\n",
       "      <td>1. A tangible, non-transitory computer readabl...</td>\n",
       "      <td>Automated banking machine that operates respon...</td>\n",
       "      <td>G07F19/20,G07F19/20,G06Q40/02,G06Q40/02,G07D7/...</td>\n",
       "      <td>0</td>\n",
       "      <td>an automated banking machine controlled respon...</td>\n",
       "      <td>an automated banking machine controlled respon...</td>\n",
       "      <td>an automated banking machine controlled respon...</td>\n",
       "      <td>automated banking machine controlled responsiv...</td>\n",
       "    </tr>\n",
       "  </tbody>\n",
       "</table>\n",
       "</div>"
      ],
      "text/plain": [
       "                                        abstract.text              lens_id  \\\n",
       "4   Systems, methods, and apparatuses are provided...  001-215-454-810-863   \n",
       "8   Memoizable functions may be identified by anal...  002-479-253-838-718   \n",
       "9   This system provides wired and/or wireless acc...  002-813-480-436-824   \n",
       "10  A new, distinct Geum plant as shown and descri...  004-133-132-043-147   \n",
       "16  An automated banking machine controlled respon...  006-135-481-468-129   \n",
       "\n",
       "   jurisdiction kind date_published publication_type  \\\n",
       "4            US   B2     2016-03-15   GRANTED_PATENT   \n",
       "8            US   B2     2016-02-16   GRANTED_PATENT   \n",
       "9            US   B2     2016-03-29   GRANTED_PATENT   \n",
       "10           US   P2     2016-03-01     PLANT_PATENT   \n",
       "16           US   B2     2016-03-01   GRANTED_PATENT   \n",
       "\n",
       "           biblio.classifications_cpc.classifications  \\\n",
       "4   A61N5/1049,A61N5/1049,A61B5/0036,A61B5/0036,A6...   \n",
       "8   G06F16/2308,G06F8/4441,G06F11/3616,G06F16/2455...   \n",
       "9   G06F21/10,G06F21/10,G06F16/40,G06F21/6218,G06F...   \n",
       "10                                 A01H6/74,A01H5/02,   \n",
       "16  G07F19/20,G07F19/20,G06Q40/02,G06Q40/02,G07D7/...   \n",
       "\n",
       "                                        claims.claims  \\\n",
       "4   1. A system comprising: an imaging element con...   \n",
       "8   1. A computer-implemented method of performing...   \n",
       "9   1. A multimedia management system for managing...   \n",
       "10  1. A new, distinct Geum plant as illustrated a...   \n",
       "16  1. A tangible, non-transitory computer readabl...   \n",
       "\n",
       "                          biblio.invention_title.text  \\\n",
       "4   Imaging observation timing for assisting radia...   \n",
       "8   Purity analysis using white list/black list an...   \n",
       "9   Multimedia network system with content importa...   \n",
       "10                      Geum plant named ‘Sea Breeze’   \n",
       "16  Automated banking machine that operates respon...   \n",
       "\n",
       "                                                  cpc  yo2  \\\n",
       "4   A61N5/1049,A61N5/1049,A61B5/0036,A61B5/0036,A6...    0   \n",
       "8   G06F16/2308,G06F8/4441,G06F11/3616,G06F16/2455...    0   \n",
       "9   G06F21/10,G06F21/10,G06F16/40,G06F21/6218,G06F...    0   \n",
       "10                                 A01H6/74,A01H5/02,    0   \n",
       "16  G07F19/20,G07F19/20,G06Q40/02,G06Q40/02,G07D7/...    0   \n",
       "\n",
       "                                  abstract.text_lower  \\\n",
       "4   systems, methods, and apparatuses are provided...   \n",
       "8   memoizable functions may be identified by anal...   \n",
       "9   this system provides wired and/or wireless acc...   \n",
       "10  a new, distinct geum plant as shown and descri...   \n",
       "16  an automated banking machine controlled respon...   \n",
       "\n",
       "                               abstract.text_punctbef  \\\n",
       "4   systems  methods  and apparatuses are provided...   \n",
       "8   memoizable functions may be identified by anal...   \n",
       "9   this system provides wired and or wireless acc...   \n",
       "10  a new  distinct geum plant as shown and descri...   \n",
       "16  an automated banking machine controlled respon...   \n",
       "\n",
       "                                     abstract.text_no  \\\n",
       "4   systems  methods  and apparatuses are provided...   \n",
       "8   memoizable functions may be identified by anal...   \n",
       "9   this system provides wired and or wireless acc...   \n",
       "10  a new  distinct geum plant as shown and descri...   \n",
       "16  an automated banking machine controlled respon...   \n",
       "\n",
       "                                     abstract.text_sw  \n",
       "4   systems methods apparatuses provided targeting...  \n",
       "8   memoizable functions may identified analyzing ...  \n",
       "9   system provides wired wireless access througho...  \n",
       "10  new distinct geum plant shown described charac...  \n",
       "16  automated banking machine controlled responsiv...  "
      ]
     },
     "execution_count": 84,
     "metadata": {},
     "output_type": "execute_result"
    }
   ],
   "source": [
    "final_df.head()"
   ]
  },
  {
   "cell_type": "code",
   "execution_count": 85,
   "metadata": {},
   "outputs": [],
   "source": [
    "# TEXT PROCESSING FOR TITLE"
   ]
  },
  {
   "cell_type": "code",
   "execution_count": 86,
   "metadata": {},
   "outputs": [
    {
     "data": {
      "text/plain": [
       "4         imaging observation timing for assisting radia...\n",
       "8         purity analysis using white list/black list an...\n",
       "9         multimedia network system with content importa...\n",
       "10                            geum plant named ‘sea breeze’\n",
       "16        automated banking machine that operates respon...\n",
       "                                ...                        \n",
       "716449                                              unknown\n",
       "716450                                              unknown\n",
       "716451                                              unknown\n",
       "716452                                              unknown\n",
       "716453                                              unknown\n",
       "Name: biblio.invention_title.text_lower, Length: 687280, dtype: object"
      ]
     },
     "execution_count": 86,
     "metadata": {},
     "output_type": "execute_result"
    }
   ],
   "source": [
    "# lower case variables for title \n",
    "def clean_lowercase(review_text):\n",
    "    return str(review_text).lower()\n",
    "final_df['biblio.invention_title.text_lower'] = final_df['biblio.invention_title.text'].apply(clean_lowercase)\n",
    "final_df['biblio.invention_title.text_lower']"
   ]
  },
  {
   "cell_type": "code",
   "execution_count": 87,
   "metadata": {},
   "outputs": [
    {
     "data": {
      "text/plain": [
       "4         imaging observation timing for assisting radia...\n",
       "8         purity analysis using white list black list an...\n",
       "9         multimedia network system with content importa...\n",
       "10                            geum plant named  sea breeze \n",
       "16        automated banking machine that operates respon...\n",
       "                                ...                        \n",
       "716449                                              unknown\n",
       "716450                                              unknown\n",
       "716451                                              unknown\n",
       "716452                                              unknown\n",
       "716453                                              unknown\n",
       "Name: biblio.invention_title.text_punctbef, Length: 687280, dtype: object"
      ]
     },
     "execution_count": 87,
     "metadata": {},
     "output_type": "execute_result"
    }
   ],
   "source": [
    "# removing punctuation for title\n",
    "def remove_before_token(sentence, keep_apostrophe = False):\n",
    "    sentence = sentence.strip()\n",
    "    if keep_apostrophe:\n",
    "        PATTERN = r'[?|$|&|*|%|@|(|)|~]'\n",
    "        filtered_sentence = re.sub(PATTERN, r' ', sentence)\n",
    "    else :\n",
    "        PATTERN = r'[^a-zA-Z0-9]'\n",
    "        filtered_sentence = re.sub(PATTERN, r' ', sentence)\n",
    "    return(filtered_sentence)\n",
    "\n",
    "final_df['biblio.invention_title.text_punctbef'] = final_df['biblio.invention_title.text_lower'].apply(remove_before_token)\n",
    "final_df['biblio.invention_title.text_punctbef']"
   ]
  },
  {
   "cell_type": "code",
   "execution_count": 88,
   "metadata": {},
   "outputs": [
    {
     "data": {
      "text/plain": [
       "4         imaging observation timing for assisting radia...\n",
       "8         purity analysis using white list black list an...\n",
       "9         multimedia network system with content importa...\n",
       "10                            geum plant named  sea breeze \n",
       "16        automated banking machine that operates respon...\n",
       "                                ...                        \n",
       "716449                                              unknown\n",
       "716450                                              unknown\n",
       "716451                                              unknown\n",
       "716452                                              unknown\n",
       "716453                                              unknown\n",
       "Name: biblio.invention_title.text_no, Length: 687280, dtype: object"
      ]
     },
     "execution_count": 88,
     "metadata": {},
     "output_type": "execute_result"
    }
   ],
   "source": [
    "# remove numbers\n",
    "def clean_text(text):\n",
    "    text_nonum = re.sub(r'\\d+', '', text)\n",
    "    return text_nonum\n",
    "\n",
    "final_df['biblio.invention_title.text_no'] = final_df['biblio.invention_title.text_punctbef'].apply(clean_text)\n",
    "final_df['biblio.invention_title.text_no']"
   ]
  },
  {
   "cell_type": "code",
   "execution_count": 89,
   "metadata": {},
   "outputs": [
    {
     "data": {
      "text/plain": [
       "4         imaging observation timing for assisting radia...\n",
       "8         purity analysis using white list black list an...\n",
       "9         multimedia network system with content importa...\n",
       "10                            geum plant named  sea breeze \n",
       "16        automated banking machine that operates respon...\n",
       "                                ...                        \n",
       "716449                                              unknown\n",
       "716450                                              unknown\n",
       "716451                                              unknown\n",
       "716452                                              unknown\n",
       "716453                                              unknown\n",
       "Name: biblio.invention_title.text_sw, Length: 687280, dtype: object"
      ]
     },
     "execution_count": 89,
     "metadata": {},
     "output_type": "execute_result"
    }
   ],
   "source": [
    "# remove numbers\n",
    "def clean_text(text):\n",
    "    text_nonum = re.sub(r'\\d+', '', text)\n",
    "    return text_nonum\n",
    "\n",
    "final_df['biblio.invention_title.text_sw'] = final_df['biblio.invention_title.text_no'].apply(clean_text)\n",
    "final_df['biblio.invention_title.text_sw']"
   ]
  },
  {
   "cell_type": "code",
   "execution_count": 90,
   "metadata": {},
   "outputs": [],
   "source": [
    "# TEXT PROCESSING FOR CLAIMS"
   ]
  },
  {
   "cell_type": "code",
   "execution_count": 91,
   "metadata": {},
   "outputs": [
    {
     "data": {
      "text/plain": [
       "4         1. a system comprising: an imaging element con...\n",
       "8         1. a computer-implemented method of performing...\n",
       "9         1. a multimedia management system for managing...\n",
       "10        1. a new, distinct geum plant as illustrated a...\n",
       "16        1. a tangible, non-transitory computer readabl...\n",
       "                                ...                        \n",
       "716449    1. a tape cassette, comprising: a housing havi...\n",
       "716450    1 . a method comprising: a) splitting a laser ...\n",
       "716451    1 . a cooling apparatus for an internal combus...\n",
       "716452    1 . an apparatus comprising: a housing includi...\n",
       "716453    1 . a method comprising: accessing at least on...\n",
       "Name: claims.claims_lower, Length: 687280, dtype: object"
      ]
     },
     "execution_count": 91,
     "metadata": {},
     "output_type": "execute_result"
    }
   ],
   "source": [
    "# lower case variables for claims \n",
    "def clean_lowercase(review_text):\n",
    "    return str(review_text).lower()\n",
    "final_df['claims.claims_lower'] = final_df['claims.claims'].apply(clean_lowercase)\n",
    "final_df['claims.claims_lower']"
   ]
  },
  {
   "cell_type": "code",
   "execution_count": 92,
   "metadata": {},
   "outputs": [
    {
     "data": {
      "text/plain": [
       "4         1  a system comprising  an imaging element con...\n",
       "8         1  a computer implemented method of performing...\n",
       "9         1  a multimedia management system for managing...\n",
       "10        1  a new  distinct geum plant as illustrated a...\n",
       "16        1  a tangible  non transitory computer readabl...\n",
       "                                ...                        \n",
       "716449    1  a tape cassette  comprising  a housing havi...\n",
       "716450    1   a method comprising  a  splitting a laser ...\n",
       "716451    1   a cooling apparatus for an internal combus...\n",
       "716452    1   an apparatus comprising  a housing includi...\n",
       "716453    1   a method comprising  accessing at least on...\n",
       "Name: claims.claims_punctbef, Length: 687280, dtype: object"
      ]
     },
     "execution_count": 92,
     "metadata": {},
     "output_type": "execute_result"
    }
   ],
   "source": [
    "# removing punctuation for claims\n",
    "def remove_before_token(sentence, keep_apostrophe = False):\n",
    "    sentence = sentence.strip()\n",
    "    if keep_apostrophe:\n",
    "        PATTERN = r'[?|$|&|*|%|@|(|)|~]'\n",
    "        filtered_sentence = re.sub(PATTERN, r' ', sentence)\n",
    "    else :\n",
    "        PATTERN = r'[^a-zA-Z0-9]'\n",
    "        filtered_sentence = re.sub(PATTERN, r' ', sentence)\n",
    "    return(filtered_sentence)\n",
    "\n",
    "final_df['claims.claims_punctbef'] = final_df['claims.claims_lower'].apply(remove_before_token)\n",
    "final_df['claims.claims_punctbef']"
   ]
  },
  {
   "cell_type": "code",
   "execution_count": 93,
   "metadata": {},
   "outputs": [
    {
     "data": {
      "text/plain": [
       "4           a system comprising  an imaging element conf...\n",
       "8           a computer implemented method of performing ...\n",
       "9           a multimedia management system for managing ...\n",
       "10          a new  distinct geum plant as illustrated an...\n",
       "16          a tangible  non transitory computer readable...\n",
       "                                ...                        \n",
       "716449      a tape cassette  comprising  a housing havin...\n",
       "716450       a method comprising  a  splitting a laser t...\n",
       "716451       a cooling apparatus for an internal combust...\n",
       "716452       an apparatus comprising  a housing includin...\n",
       "716453       a method comprising  accessing at least one...\n",
       "Name: claims.claims_no, Length: 687280, dtype: object"
      ]
     },
     "execution_count": 93,
     "metadata": {},
     "output_type": "execute_result"
    }
   ],
   "source": [
    "# remove numbers\n",
    "def clean_text(text):\n",
    "    text_nonum = re.sub(r'\\d+', '', text)\n",
    "    return text_nonum\n",
    "\n",
    "final_df['claims.claims_no'] = final_df['claims.claims_punctbef'].apply(clean_text)\n",
    "final_df['claims.claims_no']"
   ]
  },
  {
   "cell_type": "code",
   "execution_count": 94,
   "metadata": {},
   "outputs": [
    {
     "data": {
      "text/plain": [
       "4           a system comprising  an imaging element conf...\n",
       "8           a computer implemented method of performing ...\n",
       "9           a multimedia management system for managing ...\n",
       "10          a new  distinct geum plant as illustrated an...\n",
       "16          a tangible  non transitory computer readable...\n",
       "                                ...                        \n",
       "716449      a tape cassette  comprising  a housing havin...\n",
       "716450       a method comprising  a  splitting a laser t...\n",
       "716451       a cooling apparatus for an internal combust...\n",
       "716452       an apparatus comprising  a housing includin...\n",
       "716453       a method comprising  accessing at least one...\n",
       "Name: claims.claims_sw, Length: 687280, dtype: object"
      ]
     },
     "execution_count": 94,
     "metadata": {},
     "output_type": "execute_result"
    }
   ],
   "source": [
    "# remove numbers\n",
    "def clean_text(text):\n",
    "    text_nonum = re.sub(r'\\d+', '', text)\n",
    "    return text_nonum\n",
    "\n",
    "final_df['claims.claims_sw'] = final_df['claims.claims_no'].apply(clean_text)\n",
    "final_df['claims.claims_sw']"
   ]
  },
  {
   "cell_type": "code",
   "execution_count": 95,
   "metadata": {},
   "outputs": [
    {
     "name": "stdout",
     "output_type": "stream",
     "text": [
      "<class 'pandas.core.frame.DataFrame'>\n",
      "Int64Index: 687280 entries, 4 to 716453\n",
      "Data columns (total 23 columns):\n",
      " #   Column                                      Non-Null Count   Dtype \n",
      "---  ------                                      --------------   ----- \n",
      " 0   abstract.text                               687280 non-null  object\n",
      " 1   lens_id                                     687280 non-null  object\n",
      " 2   jurisdiction                                687280 non-null  object\n",
      " 3   kind                                        687280 non-null  object\n",
      " 4   date_published                              687280 non-null  object\n",
      " 5   publication_type                            687280 non-null  object\n",
      " 6   biblio.classifications_cpc.classifications  687280 non-null  object\n",
      " 7   claims.claims                               687280 non-null  object\n",
      " 8   biblio.invention_title.text                 687280 non-null  object\n",
      " 9   cpc                                         687280 non-null  object\n",
      " 10  yo2                                         687280 non-null  int64 \n",
      " 11  abstract.text_lower                         687280 non-null  object\n",
      " 12  abstract.text_punctbef                      687280 non-null  object\n",
      " 13  abstract.text_no                            687280 non-null  object\n",
      " 14  abstract.text_sw                            687280 non-null  object\n",
      " 15  biblio.invention_title.text_lower           687280 non-null  object\n",
      " 16  biblio.invention_title.text_punctbef        687280 non-null  object\n",
      " 17  biblio.invention_title.text_no              687280 non-null  object\n",
      " 18  biblio.invention_title.text_sw              687280 non-null  object\n",
      " 19  claims.claims_lower                         687280 non-null  object\n",
      " 20  claims.claims_punctbef                      687280 non-null  object\n",
      " 21  claims.claims_no                            687280 non-null  object\n",
      " 22  claims.claims_sw                            687280 non-null  object\n",
      "dtypes: int64(1), object(22)\n",
      "memory usage: 125.8+ MB\n"
     ]
    }
   ],
   "source": [
    "# drop columns\n",
    "#final_df = final_df.drop(columns=['unnamed'])\n",
    "final_df.info()"
   ]
  },
  {
   "cell_type": "code",
   "execution_count": 96,
   "metadata": {},
   "outputs": [],
   "source": [
    "# final_df\n",
    "final_df = final_df.drop(columns=['abstract.text','claims.claims','jurisdiction','kind','biblio.invention_title.text','biblio.classifications_cpc.classifications',\n",
    "                                 'abstract.text_lower','abstract.text_punctbef','abstract.text_no',\n",
    "                                 'biblio.invention_title.text_lower','biblio.invention_title.text_punctbef','biblio.invention_title.text_no',\n",
    "                                 'claims.claims_lower','claims.claims_punctbef','claims.claims_no'])\n"
   ]
  },
  {
   "cell_type": "code",
   "execution_count": 97,
   "metadata": {},
   "outputs": [
    {
     "name": "stdout",
     "output_type": "stream",
     "text": [
      "<class 'pandas.core.frame.DataFrame'>\n",
      "Int64Index: 687280 entries, 4 to 716453\n",
      "Data columns (total 8 columns):\n",
      " #   Column                          Non-Null Count   Dtype \n",
      "---  ------                          --------------   ----- \n",
      " 0   lens_id                         687280 non-null  object\n",
      " 1   date_published                  687280 non-null  object\n",
      " 2   publication_type                687280 non-null  object\n",
      " 3   cpc                             687280 non-null  object\n",
      " 4   yo2                             687280 non-null  int64 \n",
      " 5   abstract.text_sw                687280 non-null  object\n",
      " 6   biblio.invention_title.text_sw  687280 non-null  object\n",
      " 7   claims.claims_sw                687280 non-null  object\n",
      "dtypes: int64(1), object(7)\n",
      "memory usage: 47.2+ MB\n"
     ]
    }
   ],
   "source": [
    "final_df.info()"
   ]
  },
  {
   "cell_type": "code",
   "execution_count": 98,
   "metadata": {},
   "outputs": [
    {
     "data": {
      "text/plain": [
       "4         [imaging, observation, timing, for, assisting,...\n",
       "8         [purity, analysis, using, white, list, black, ...\n",
       "9         [multimedia, network, system, with, content, i...\n",
       "10                        [geum, plant, named, sea, breeze]\n",
       "16        [automated, banking, machine, that, operates, ...\n",
       "                                ...                        \n",
       "716449                                            [unknown]\n",
       "716450                                            [unknown]\n",
       "716451                                            [unknown]\n",
       "716452                                            [unknown]\n",
       "716453                                            [unknown]\n",
       "Name: biblio.invention_title.text_token, Length: 687280, dtype: object"
      ]
     },
     "execution_count": 98,
     "metadata": {},
     "output_type": "execute_result"
    }
   ],
   "source": [
    "# tokenize\n",
    "import nltk\n",
    "from nltk.tokenize import word_tokenize\n",
    "\n",
    "def clean_tokenization(review_text):\n",
    "    return word_tokenize(review_text)\n",
    "\n",
    "final_df['biblio.invention_title.text_token'] = final_df['biblio.invention_title.text_sw'].apply(clean_tokenization)\n",
    "final_df['biblio.invention_title.text_token']"
   ]
  },
  {
   "cell_type": "code",
   "execution_count": 99,
   "metadata": {},
   "outputs": [],
   "source": [
    "# final_df.to_csv('final_preprocessing.csv')"
   ]
  },
  {
   "cell_type": "code",
   "execution_count": 100,
   "metadata": {},
   "outputs": [],
   "source": [
    "final_df.to_csv('final_preprocessing_wk.csv')"
   ]
  }
 ],
 "metadata": {
  "kernelspec": {
   "display_name": "Python [conda env:Python3] *",
   "language": "python",
   "name": "conda-env-Python3-py"
  },
  "language_info": {
   "codemirror_mode": {
    "name": "ipython",
    "version": 3
   },
   "file_extension": ".py",
   "mimetype": "text/x-python",
   "name": "python",
   "nbconvert_exporter": "python",
   "pygments_lexer": "ipython3",
   "version": "3.8.2"
  }
 },
 "nbformat": 4,
 "nbformat_minor": 4
}
