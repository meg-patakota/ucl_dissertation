{
 "cells": [
  {
   "cell_type": "code",
   "execution_count": 1,
   "id": "054a0321",
   "metadata": {},
   "outputs": [],
   "source": [
    "# import packages\n",
    "import pandas as pd\n",
    "import random\n",
    "from sklearn.model_selection import train_test_split\n",
    "import matplotlib.pyplot as plt\n",
    "\n",
    "# doc2Vec imports\n",
    "from gensim.models import doc2vec\n",
    "from gensim.test.utils import common_texts\n",
    "from gensim.models.doc2vec import Doc2Vec, TaggedDocument\n",
    "\n",
    "# Model imports\n",
    "from sklearn import svm\n",
    "from sklearn.metrics import classification_report"
   ]
  },
  {
   "cell_type": "code",
   "execution_count": 2,
   "id": "38af142d",
   "metadata": {},
   "outputs": [
    {
     "data": {
      "text/html": [
       "<div>\n",
       "<style scoped>\n",
       "    .dataframe tbody tr th:only-of-type {\n",
       "        vertical-align: middle;\n",
       "    }\n",
       "\n",
       "    .dataframe tbody tr th {\n",
       "        vertical-align: top;\n",
       "    }\n",
       "\n",
       "    .dataframe thead th {\n",
       "        text-align: right;\n",
       "    }\n",
       "</style>\n",
       "<table border=\"1\" class=\"dataframe\">\n",
       "  <thead>\n",
       "    <tr style=\"text-align: right;\">\n",
       "      <th></th>\n",
       "      <th>Unnamed: 0</th>\n",
       "      <th>abstract.text_sw</th>\n",
       "      <th>biblio.invention_title.text_sw</th>\n",
       "      <th>claims.claims_sw</th>\n",
       "      <th>yo2</th>\n",
       "    </tr>\n",
       "  </thead>\n",
       "  <tbody>\n",
       "    <tr>\n",
       "      <th>0</th>\n",
       "      <td>98980</td>\n",
       "      <td>disclosure relates hand control input device c...</td>\n",
       "      <td>unknown</td>\n",
       "      <td>a hand control input device  comprising  a ...</td>\n",
       "      <td>0</td>\n",
       "    </tr>\n",
       "    <tr>\n",
       "      <th>1</th>\n",
       "      <td>69824</td>\n",
       "      <td>one aspect present invention directed plant pl...</td>\n",
       "      <td>bacterial spore compositions for industrial uses</td>\n",
       "      <td>a plant or plant part coated with a composi...</td>\n",
       "      <td>1</td>\n",
       "    </tr>\n",
       "    <tr>\n",
       "      <th>2</th>\n",
       "      <td>9928</td>\n",
       "      <td>demonstrative embodiments include apparatuses ...</td>\n",
       "      <td>apparatus  system and method of setting up an ...</td>\n",
       "      <td>a product comprising one or more tangible c...</td>\n",
       "      <td>0</td>\n",
       "    </tr>\n",
       "    <tr>\n",
       "      <th>3</th>\n",
       "      <td>75599</td>\n",
       "      <td>wavelength multiplexing apparatus includes div...</td>\n",
       "      <td>wavelength multiplexing apparatus and method</td>\n",
       "      <td>a wavelength multiplexing apparatus  compris...</td>\n",
       "      <td>0</td>\n",
       "    </tr>\n",
       "    <tr>\n",
       "      <th>4</th>\n",
       "      <td>95621</td>\n",
       "      <td>first second inputs received first input indic...</td>\n",
       "      <td>method and apparatus for transmitter optimizat...</td>\n",
       "      <td>canceled     a system comprising  one ...</td>\n",
       "      <td>0</td>\n",
       "    </tr>\n",
       "  </tbody>\n",
       "</table>\n",
       "</div>"
      ],
      "text/plain": [
       "   Unnamed: 0                                   abstract.text_sw  \\\n",
       "0       98980  disclosure relates hand control input device c...   \n",
       "1       69824  one aspect present invention directed plant pl...   \n",
       "2        9928  demonstrative embodiments include apparatuses ...   \n",
       "3       75599  wavelength multiplexing apparatus includes div...   \n",
       "4       95621  first second inputs received first input indic...   \n",
       "\n",
       "                      biblio.invention_title.text_sw  \\\n",
       "0                                            unknown   \n",
       "1   bacterial spore compositions for industrial uses   \n",
       "2  apparatus  system and method of setting up an ...   \n",
       "3       wavelength multiplexing apparatus and method   \n",
       "4  method and apparatus for transmitter optimizat...   \n",
       "\n",
       "                                    claims.claims_sw  yo2  \n",
       "0     a hand control input device  comprising  a ...    0  \n",
       "1     a plant or plant part coated with a composi...    1  \n",
       "2     a product comprising one or more tangible c...    0  \n",
       "3    a wavelength multiplexing apparatus  compris...    0  \n",
       "4          canceled     a system comprising  one ...    0  "
      ]
     },
     "execution_count": 2,
     "metadata": {},
     "output_type": "execute_result"
    }
   ],
   "source": [
    "# load the package\n",
    "final_df = pd.read_csv('/project/train_data.csv')\n",
    "final_df.head()"
   ]
  },
  {
   "cell_type": "code",
   "execution_count": 3,
   "id": "26ce0eb2",
   "metadata": {},
   "outputs": [],
   "source": [
    "ml_set = final_df[['abstract.text_sw','biblio.invention_title.text_sw','claims.claims_sw','yo2']]"
   ]
  },
  {
   "cell_type": "code",
   "execution_count": 4,
   "id": "77e66362",
   "metadata": {},
   "outputs": [],
   "source": [
    "# split train and test\n",
    "y = ml_set['yo2']\n",
    "X = ml_set.drop(columns = 'yo2')\n",
    "X['tac'] = X['biblio.invention_title.text_sw'] + ' ' + X['abstract.text_sw'] + ' ' + X['claims.claims_sw']\n",
    "X['title_abs'] = X['biblio.invention_title.text_sw'] + ' ' + X['abstract.text_sw'] \n",
    "X['title_claims'] = X['biblio.invention_title.text_sw'] + ' ' + X['claims.claims_sw']\n",
    "X['abs_claims'] = X['abstract.text_sw'] + ' ' + X['claims.claims_sw']\n",
    "X['abstract'] = X['abstract.text_sw']\n",
    "X['title'] = X['biblio.invention_title.text_sw']\n",
    "X['claims'] = X['claims.claims_sw']"
   ]
  },
  {
   "cell_type": "code",
   "execution_count": 5,
   "id": "8bc49c48",
   "metadata": {},
   "outputs": [],
   "source": [
    "# training and validation set \n",
    "X_train, X_test, y_train, y_test = train_test_split(X, y, test_size=0.25, random_state = 42)"
   ]
  },
  {
   "cell_type": "code",
   "execution_count": 6,
   "id": "8aca3894",
   "metadata": {},
   "outputs": [
    {
     "data": {
      "text/plain": [
       "(56250, 10)"
      ]
     },
     "execution_count": 6,
     "metadata": {},
     "output_type": "execute_result"
    }
   ],
   "source": [
    "X_train.shape"
   ]
  },
  {
   "cell_type": "code",
   "execution_count": 7,
   "id": "c05b5313",
   "metadata": {},
   "outputs": [
    {
     "name": "stdout",
     "output_type": "stream",
     "text": [
      "<class 'pandas.core.frame.DataFrame'>\n",
      "Int64Index: 56250 entries, 1762 to 15795\n",
      "Data columns (total 10 columns):\n",
      " #   Column                          Non-Null Count  Dtype \n",
      "---  ------                          --------------  ----- \n",
      " 0   abstract.text_sw                56250 non-null  object\n",
      " 1   biblio.invention_title.text_sw  56250 non-null  object\n",
      " 2   claims.claims_sw                56250 non-null  object\n",
      " 3   tac                             56250 non-null  object\n",
      " 4   title_abs                       56250 non-null  object\n",
      " 5   title_claims                    56250 non-null  object\n",
      " 6   abs_claims                      56250 non-null  object\n",
      " 7   abstract                        56250 non-null  object\n",
      " 8   title                           56250 non-null  object\n",
      " 9   claims                          56250 non-null  object\n",
      "dtypes: object(10)\n",
      "memory usage: 4.7+ MB\n"
     ]
    }
   ],
   "source": [
    "X_train.info()"
   ]
  },
  {
   "cell_type": "markdown",
   "id": "38766ab5",
   "metadata": {},
   "source": [
    "## Best model"
   ]
  },
  {
   "cell_type": "code",
   "execution_count": 8,
   "id": "2fd697d7",
   "metadata": {},
   "outputs": [
    {
     "name": "stdout",
     "output_type": "stream",
     "text": [
      "              precision    recall  f1-score   support\n",
      "\n",
      "           0       0.95      0.96      0.95     16916\n",
      "           1       0.57      0.50      0.53      1834\n",
      "\n",
      "    accuracy                           0.91     18750\n",
      "   macro avg       0.76      0.73      0.74     18750\n",
      "weighted avg       0.91      0.91      0.91     18750\n",
      "\n",
      "vector_size:171 window:3 min_count:4 epochs:11\n"
     ]
    },
    {
     "name": "stderr",
     "output_type": "stream",
     "text": [
      "<ipython-input-8-4b6d0c0c3aca>:39: DeprecationWarning: Call to deprecated `min_count` (Attribute will be removed in 4.0.0, use self.vocabulary.min_count instead).\n",
      "  'min_count:'+str(doc2vec_model.min_count),\n"
     ]
    }
   ],
   "source": [
    "from sklearn import svm\n",
    "\n",
    "documents_train_title_abs = [TaggedDocument(str(doc).split(), [i, label]) for i, (doc, label) in enumerate(zip(X_train['title_abs'], y_train))]\n",
    "    \n",
    "# Initialize the model\n",
    "doc2vec_model = Doc2Vec(dm=0,\n",
    "                            vector_size=171,\n",
    "                            window=3,\n",
    "                            min_count=4,\n",
    "                            workers=8,\n",
    "                            epochs=11,\n",
    "                            sample =0 )\n",
    "\n",
    "\n",
    "# Build vocab\n",
    "doc2vec_model.build_vocab(documents_train_title_abs)\n",
    "\n",
    "# Train doc2vec model\n",
    "doc2vec_model.train(documents_train_title_abs, total_examples=doc2vec_model.corpus_count, epochs=doc2vec_model.epochs)\n",
    "\n",
    "# Extract vectors of training data\n",
    "doc2vec_df_title_abs = [doc2vec_model[i] for i in range(len(documents_train_title_abs))]\n",
    "\n",
    "# Extract vectors of testing data\n",
    "testing_data_title_abs = [doc2vec_model.infer_vector(str(document).split()) for document in X_test['title_abs']]\n",
    "\n",
    "# SVM Model\n",
    "svm_decision_doc2vec = svm.SVC(random_state=42, class_weight='balanced')\n",
    "\n",
    "# Fit the model\n",
    "clf_title_abs = svm_decision_doc2vec.fit(doc2vec_df_title_abs, y_train)\n",
    "\n",
    "test_predictions_doc2vec_title_abs = svm_decision_doc2vec.predict(testing_data_title_abs)\n",
    "\n",
    "print(classification_report(y_test,test_predictions_doc2vec_title_abs))\n",
    "\n",
    "print('vector_size:'+str(doc2vec_model.vector_size),\n",
    "          'window:'+str(doc2vec_model.window),\n",
    "          'min_count:'+str(doc2vec_model.min_count),\n",
    "        'epochs:'+str(doc2vec_model.epochs))"
   ]
  },
  {
   "cell_type": "code",
   "execution_count": 11,
   "id": "32462e97",
   "metadata": {},
   "outputs": [],
   "source": [
    "# predicting probabilities for the above model\n",
    "from sklearn import svm\n",
    "\n",
    "documents_train_title_abs = [TaggedDocument(str(doc).split(), [i, label]) for i, (doc, label) in enumerate(zip(X_train['title_abs'], y_train))]\n",
    "    \n",
    "# Initialize the model\n",
    "doc2vec_model = Doc2Vec(dm=0,\n",
    "                            vector_size=171,\n",
    "                            window=3,\n",
    "                            min_count=4,\n",
    "                            workers=8,\n",
    "                            epochs=11,\n",
    "                            sample =0 )\n",
    "\n",
    "\n",
    "# Build vocab\n",
    "doc2vec_model.build_vocab(documents_train_title_abs)\n",
    "\n",
    "# Train doc2vec model\n",
    "doc2vec_model.train(documents_train_title_abs, total_examples=doc2vec_model.corpus_count, epochs=doc2vec_model.epochs)\n",
    "\n",
    "# Extract vectors of training data\n",
    "doc2vec_df_title_abs = [doc2vec_model[i] for i in range(len(documents_train_title_abs))]\n",
    "\n",
    "# Extract vectors of testing data\n",
    "testing_data_title_abs = [doc2vec_model.infer_vector(str(document).split()) for document in X_test['title_abs']]\n",
    "\n",
    "# SVM Model\n",
    "svm_decision_doc2vec = svm.SVC(random_state=42, class_weight='balanced',probability=True)\n",
    "\n",
    "# Fit the model\n",
    "clf_title_abs = svm_decision_doc2vec.fit(doc2vec_df_title_abs, y_train)\n",
    "\n",
    "test_predictions_doc2vec_title_abs_prob = svm_decision_doc2vec.predict_proba(testing_data_title_abs)"
   ]
  },
  {
   "cell_type": "code",
   "execution_count": null,
   "id": "3f0f6ed4",
   "metadata": {},
   "outputs": [],
   "source": [
    "pd.DataFrame(test_predictions_doc2vec_title_abs_prob[:,1]).hist(bins=50)"
   ]
  },
  {
   "cell_type": "code",
   "execution_count": 45,
   "id": "86116f80",
   "metadata": {},
   "outputs": [
    {
     "data": {
      "image/png": "[encoded data removed]",
      "text/plain": [
       "<Figure size 432x288 with 1 Axes>"
      ]
     },
     "metadata": {
      "needs_background": "light"
     },
     "output_type": "display_data"
    }
   ],
   "source": [
    "plt.hist(test_predictions_doc2vec_title_abs_prob, bins=8)\n",
    "plt.title('Validation data probability predictions')\n",
    "plt.xlabel('Probability frequencies')\n",
    "plt.ylabel('Patent documents')\n",
    "\n",
    "plt.show();"
   ]
  },
  {
   "cell_type": "code",
   "execution_count": 10,
   "id": "ad93ed34",
   "metadata": {},
   "outputs": [
    {
     "data": {
      "text/plain": [
       "array([[16226,   690],\n",
       "       [  919,   915]])"
      ]
     },
     "execution_count": 10,
     "metadata": {},
     "output_type": "execute_result"
    }
   ],
   "source": [
    "from sklearn.metrics import confusion_matrix\n",
    "confusion_matrix(y_test,test_predictions_doc2vec_title_abs)"
   ]
  },
  {
   "cell_type": "code",
   "execution_count": 18,
   "id": "f767a48d",
   "metadata": {},
   "outputs": [
    {
     "data": {
      "image/png": "[encoded data removed]",
      "text/plain": [
       "<Figure size 432x288 with 2 Axes>"
      ]
     },
     "metadata": {
      "needs_background": "light"
     },
     "output_type": "display_data"
    }
   ],
   "source": [
    "import sklearn.metrics as metrics\n",
    "metrics.plot_confusion_matrix(clf_title_abs,testing_data_title_abs, y_test);"
   ]
  },
  {
   "cell_type": "code",
   "execution_count": 19,
   "id": "d99d7a32",
   "metadata": {},
   "outputs": [
    {
     "data": {
      "text/plain": [
       "<sklearn.metrics._plot.roc_curve.RocCurveDisplay at 0x7f715fb6ab50>"
      ]
     },
     "execution_count": 19,
     "metadata": {},
     "output_type": "execute_result"
    },
    {
     "data": {
      "image/png": "[encoded data removed]",
      "text/plain": [
       "<Figure size 432x288 with 1 Axes>"
      ]
     },
     "metadata": {
      "needs_background": "light"
     },
     "output_type": "display_data"
    }
   ],
   "source": [
    "metrics.plot_roc_curve(clf_title_abs,testing_data_title_abs, y_test)  "
   ]
  },
  {
   "cell_type": "markdown",
   "id": "72dd56b8",
   "metadata": {},
   "source": [
    "## SVM"
   ]
  },
  {
   "cell_type": "code",
   "execution_count": 8,
   "id": "a0129630",
   "metadata": {},
   "outputs": [],
   "source": [
    "# [TaggedDocument(str(doc).split(), [i, label]) for i, (doc, label) in enumerate(zip(X_train['tac'], y_train))][5]"
   ]
  },
  {
   "cell_type": "code",
   "execution_count": 42,
   "id": "e64f325c",
   "metadata": {},
   "outputs": [
    {
     "name": "stdout",
     "output_type": "stream",
     "text": [
      "              precision    recall  f1-score   support\n",
      "\n",
      "           0       0.96      0.90      0.93     16916\n",
      "           1       0.41      0.66      0.50      1834\n",
      "\n",
      "    accuracy                           0.87     18750\n",
      "   macro avg       0.68      0.78      0.72     18750\n",
      "weighted avg       0.91      0.87      0.89     18750\n",
      "\n",
      "vector_size:72 window:5 min_count:5 epochs:33\n"
     ]
    },
    {
     "name": "stderr",
     "output_type": "stream",
     "text": [
      "<ipython-input-42-7b5f46a2f549>:43: DeprecationWarning: Call to deprecated `min_count` (Attribute will be removed in 4.0.0, use self.vocabulary.min_count instead).\n",
      "  'min_count:'+str(doc2vec_model.min_count),\n"
     ]
    },
    {
     "name": "stdout",
     "output_type": "stream",
     "text": [
      "              precision    recall  f1-score   support\n",
      "\n",
      "           0       0.95      0.95      0.95     16916\n",
      "           1       0.53      0.54      0.53      1834\n",
      "\n",
      "    accuracy                           0.91     18750\n",
      "   macro avg       0.74      0.74      0.74     18750\n",
      "weighted avg       0.91      0.91      0.91     18750\n",
      "\n",
      "vector_size:188 window:5 min_count:4 epochs:48\n"
     ]
    },
    {
     "name": "stderr",
     "output_type": "stream",
     "text": [
      "<ipython-input-42-7b5f46a2f549>:43: DeprecationWarning: Call to deprecated `min_count` (Attribute will be removed in 4.0.0, use self.vocabulary.min_count instead).\n",
      "  'min_count:'+str(doc2vec_model.min_count),\n"
     ]
    },
    {
     "name": "stdout",
     "output_type": "stream",
     "text": [
      "              precision    recall  f1-score   support\n",
      "\n",
      "           0       0.95      0.95      0.95     16916\n",
      "           1       0.54      0.53      0.54      1834\n",
      "\n",
      "    accuracy                           0.91     18750\n",
      "   macro avg       0.75      0.74      0.74     18750\n",
      "weighted avg       0.91      0.91      0.91     18750\n",
      "\n",
      "vector_size:200 window:4 min_count:4 epochs:35\n"
     ]
    },
    {
     "name": "stderr",
     "output_type": "stream",
     "text": [
      "<ipython-input-42-7b5f46a2f549>:43: DeprecationWarning: Call to deprecated `min_count` (Attribute will be removed in 4.0.0, use self.vocabulary.min_count instead).\n",
      "  'min_count:'+str(doc2vec_model.min_count),\n"
     ]
    },
    {
     "name": "stdout",
     "output_type": "stream",
     "text": [
      "              precision    recall  f1-score   support\n",
      "\n",
      "           0       0.95      0.93      0.94     16916\n",
      "           1       0.48      0.58      0.52      1834\n",
      "\n",
      "    accuracy                           0.90     18750\n",
      "   macro avg       0.72      0.76      0.73     18750\n",
      "weighted avg       0.91      0.90      0.90     18750\n",
      "\n",
      "vector_size:139 window:3 min_count:4 epochs:44\n"
     ]
    },
    {
     "name": "stderr",
     "output_type": "stream",
     "text": [
      "<ipython-input-42-7b5f46a2f549>:43: DeprecationWarning: Call to deprecated `min_count` (Attribute will be removed in 4.0.0, use self.vocabulary.min_count instead).\n",
      "  'min_count:'+str(doc2vec_model.min_count),\n"
     ]
    },
    {
     "name": "stdout",
     "output_type": "stream",
     "text": [
      "              precision    recall  f1-score   support\n",
      "\n",
      "           0       0.96      0.92      0.94     16916\n",
      "           1       0.46      0.61      0.53      1834\n",
      "\n",
      "    accuracy                           0.89     18750\n",
      "   macro avg       0.71      0.77      0.73     18750\n",
      "weighted avg       0.91      0.89      0.90     18750\n",
      "\n",
      "vector_size:115 window:4 min_count:5 epochs:43\n"
     ]
    },
    {
     "name": "stderr",
     "output_type": "stream",
     "text": [
      "<ipython-input-42-7b5f46a2f549>:43: DeprecationWarning: Call to deprecated `min_count` (Attribute will be removed in 4.0.0, use self.vocabulary.min_count instead).\n",
      "  'min_count:'+str(doc2vec_model.min_count),\n"
     ]
    },
    {
     "name": "stdout",
     "output_type": "stream",
     "text": [
      "              precision    recall  f1-score   support\n",
      "\n",
      "           0       0.95      0.93      0.94     16916\n",
      "           1       0.48      0.58      0.53      1834\n",
      "\n",
      "    accuracy                           0.90     18750\n",
      "   macro avg       0.72      0.76      0.73     18750\n",
      "weighted avg       0.91      0.90      0.90     18750\n",
      "\n",
      "vector_size:122 window:2 min_count:4 epochs:27\n"
     ]
    },
    {
     "name": "stderr",
     "output_type": "stream",
     "text": [
      "<ipython-input-42-7b5f46a2f549>:43: DeprecationWarning: Call to deprecated `min_count` (Attribute will be removed in 4.0.0, use self.vocabulary.min_count instead).\n",
      "  'min_count:'+str(doc2vec_model.min_count),\n"
     ]
    },
    {
     "name": "stdout",
     "output_type": "stream",
     "text": [
      "              precision    recall  f1-score   support\n",
      "\n",
      "           0       0.95      0.93      0.94     16916\n",
      "           1       0.48      0.59      0.53      1834\n",
      "\n",
      "    accuracy                           0.90     18750\n",
      "   macro avg       0.72      0.76      0.74     18750\n",
      "weighted avg       0.91      0.90      0.90     18750\n",
      "\n",
      "vector_size:126 window:4 min_count:3 epochs:36\n"
     ]
    },
    {
     "name": "stderr",
     "output_type": "stream",
     "text": [
      "<ipython-input-42-7b5f46a2f549>:43: DeprecationWarning: Call to deprecated `min_count` (Attribute will be removed in 4.0.0, use self.vocabulary.min_count instead).\n",
      "  'min_count:'+str(doc2vec_model.min_count),\n"
     ]
    }
   ],
   "source": [
    "# Hyperparameter tuning for TITLE & ABSTRACT \n",
    "from sklearn import svm\n",
    "\n",
    "number_iterations = 7\n",
    "\n",
    "for i in range(number_iterations):\n",
    "\n",
    "    documents_train_title_abs = [TaggedDocument(str(doc).split(), [i, label]) for i, (doc, label) in enumerate(zip(X_train['title_abs'], y_train))]\n",
    "    \n",
    "    # Initialize the model\n",
    "    doc2vec_model = Doc2Vec(dm=0,\n",
    "                            vector_size=random.randint(64,200),\n",
    "                            window=random.randint(2,5),\n",
    "                            min_count=random.randint(3,5),\n",
    "                            workers=8,\n",
    "                            epochs=random.randint(10,50),\n",
    "                            sample =0 )\n",
    "\n",
    "    # Build vocab\n",
    "    doc2vec_model.build_vocab(documents_train_title_abs)\n",
    "\n",
    "    # Train doc2vec model\n",
    "    doc2vec_model.train(documents_train_title_abs, total_examples=doc2vec_model.corpus_count, epochs=doc2vec_model.epochs)\n",
    "\n",
    "    # Extract vectors of training data\n",
    "    doc2vec_df_title_abs = [doc2vec_model[i] for i in range(len(documents_train_title_abs))]\n",
    "\n",
    "    # Extract vectors of testing data\n",
    "    testing_data_title_abs = [doc2vec_model.infer_vector(str(document).split()) for document in X_test['title_abs']]\n",
    "\n",
    "    # SVM Model\n",
    "    svm_decision_doc2vec = svm.SVC(random_state=42, class_weight='balanced')\n",
    "\n",
    "    # Fit the model\n",
    "    clf_title_abs = svm_decision_doc2vec.fit(doc2vec_df_title_abs, y_train)\n",
    "\n",
    "    test_predictions_doc2vec_title_abs = svm_decision_doc2vec.predict(testing_data_title_abs)\n",
    "\n",
    "    print(classification_report(y_test,test_predictions_doc2vec_title_abs))\n",
    "\n",
    "    print('vector_size:'+str(doc2vec_model.vector_size),\n",
    "          'window:'+str(doc2vec_model.window),\n",
    "          'min_count:'+str(doc2vec_model.min_count),\n",
    "        'epochs:'+str(doc2vec_model.epochs))\n"
   ]
  },
  {
   "cell_type": "code",
   "execution_count": 23,
   "id": "830bc601",
   "metadata": {},
   "outputs": [
    {
     "name": "stderr",
     "output_type": "stream",
     "text": [
      "<ipython-input-23-9d945dfff4bb>:41: DeprecationWarning: Call to deprecated `min_count` (Attribute will be removed in 4.0.0, use self.vocabulary.min_count instead).\n",
      "  'min_count:'+str(doc2vec_model.min_count),\n"
     ]
    },
    {
     "name": "stdout",
     "output_type": "stream",
     "text": [
      "dm:False vector_size:100 window:5 min_count:4 workers:8 epochs:41\n",
      "              precision    recall  f1-score   support\n",
      "\n",
      "           0       0.92      0.80      0.86     13598\n",
      "           1       0.14      0.30      0.19      1402\n",
      "\n",
      "    accuracy                           0.76     15000\n",
      "   macro avg       0.53      0.55      0.52     15000\n",
      "weighted avg       0.84      0.76      0.79     15000\n",
      "\n"
     ]
    },
    {
     "name": "stderr",
     "output_type": "stream",
     "text": [
      "<ipython-input-23-9d945dfff4bb>:41: DeprecationWarning: Call to deprecated `min_count` (Attribute will be removed in 4.0.0, use self.vocabulary.min_count instead).\n",
      "  'min_count:'+str(doc2vec_model.min_count),\n"
     ]
    },
    {
     "name": "stdout",
     "output_type": "stream",
     "text": [
      "dm:False vector_size:118 window:4 min_count:3 workers:8 epochs:43\n",
      "              precision    recall  f1-score   support\n",
      "\n",
      "           0       0.92      0.74      0.82     13598\n",
      "           1       0.13      0.37      0.19      1402\n",
      "\n",
      "    accuracy                           0.71     15000\n",
      "   macro avg       0.52      0.55      0.50     15000\n",
      "weighted avg       0.84      0.71      0.76     15000\n",
      "\n"
     ]
    },
    {
     "name": "stderr",
     "output_type": "stream",
     "text": [
      "<ipython-input-23-9d945dfff4bb>:41: DeprecationWarning: Call to deprecated `min_count` (Attribute will be removed in 4.0.0, use self.vocabulary.min_count instead).\n",
      "  'min_count:'+str(doc2vec_model.min_count),\n"
     ]
    },
    {
     "name": "stdout",
     "output_type": "stream",
     "text": [
      "dm:False vector_size:67 window:3 min_count:4 workers:8 epochs:26\n",
      "              precision    recall  f1-score   support\n",
      "\n",
      "           0       0.93      0.69      0.79     13598\n",
      "           1       0.15      0.52      0.23      1402\n",
      "\n",
      "    accuracy                           0.67     15000\n",
      "   macro avg       0.54      0.61      0.51     15000\n",
      "weighted avg       0.86      0.67      0.74     15000\n",
      "\n"
     ]
    },
    {
     "name": "stderr",
     "output_type": "stream",
     "text": [
      "<ipython-input-23-9d945dfff4bb>:41: DeprecationWarning: Call to deprecated `min_count` (Attribute will be removed in 4.0.0, use self.vocabulary.min_count instead).\n",
      "  'min_count:'+str(doc2vec_model.min_count),\n"
     ]
    },
    {
     "name": "stdout",
     "output_type": "stream",
     "text": [
      "dm:False vector_size:108 window:4 min_count:3 workers:8 epochs:48\n",
      "              precision    recall  f1-score   support\n",
      "\n",
      "           0       0.92      0.81      0.86     13598\n",
      "           1       0.15      0.32      0.20      1402\n",
      "\n",
      "    accuracy                           0.76     15000\n",
      "   macro avg       0.53      0.57      0.53     15000\n",
      "weighted avg       0.85      0.76      0.80     15000\n",
      "\n"
     ]
    },
    {
     "name": "stderr",
     "output_type": "stream",
     "text": [
      "<ipython-input-23-9d945dfff4bb>:41: DeprecationWarning: Call to deprecated `min_count` (Attribute will be removed in 4.0.0, use self.vocabulary.min_count instead).\n",
      "  'min_count:'+str(doc2vec_model.min_count),\n"
     ]
    },
    {
     "name": "stdout",
     "output_type": "stream",
     "text": [
      "dm:False vector_size:137 window:2 min_count:5 workers:8 epochs:36\n",
      "              precision    recall  f1-score   support\n",
      "\n",
      "           0       0.92      0.90      0.91     13598\n",
      "           1       0.20      0.23      0.21      1402\n",
      "\n",
      "    accuracy                           0.84     15000\n",
      "   macro avg       0.56      0.57      0.56     15000\n",
      "weighted avg       0.85      0.84      0.85     15000\n",
      "\n"
     ]
    },
    {
     "name": "stderr",
     "output_type": "stream",
     "text": [
      "<ipython-input-23-9d945dfff4bb>:41: DeprecationWarning: Call to deprecated `min_count` (Attribute will be removed in 4.0.0, use self.vocabulary.min_count instead).\n",
      "  'min_count:'+str(doc2vec_model.min_count),\n"
     ]
    },
    {
     "name": "stdout",
     "output_type": "stream",
     "text": [
      "dm:False vector_size:194 window:5 min_count:4 workers:8 epochs:34\n",
      "              precision    recall  f1-score   support\n",
      "\n",
      "           0       0.92      0.92      0.92     13598\n",
      "           1       0.20      0.19      0.20      1402\n",
      "\n",
      "    accuracy                           0.85     15000\n",
      "   macro avg       0.56      0.56      0.56     15000\n",
      "weighted avg       0.85      0.85      0.85     15000\n",
      "\n",
      "dm:False vector_size:158 window:5 min_count:4 workers:8 epochs:30\n",
      "              precision    recall  f1-score   support\n",
      "\n",
      "           0       0.92      0.80      0.85     13598\n",
      "           1       0.15      0.36      0.21      1402\n",
      "\n",
      "    accuracy                           0.75     15000\n",
      "   macro avg       0.54      0.58      0.53     15000\n",
      "weighted avg       0.85      0.75      0.79     15000\n",
      "\n"
     ]
    },
    {
     "name": "stderr",
     "output_type": "stream",
     "text": [
      "<ipython-input-23-9d945dfff4bb>:41: DeprecationWarning: Call to deprecated `min_count` (Attribute will be removed in 4.0.0, use self.vocabulary.min_count instead).\n",
      "  'min_count:'+str(doc2vec_model.min_count),\n"
     ]
    }
   ],
   "source": [
    "# Hyperparameter tuning for TITLE\n",
    "from sklearn import svm\n",
    "\n",
    "number_iterations = 7\n",
    "\n",
    "for i in range(number_iterations):\n",
    "    \n",
    "    documents_train_title = [TaggedDocument(str(doc).split(), [i, label]) for i, (doc, label) in enumerate(zip(X_train['title'], y_train))]\n",
    "     \n",
    "    # Initialize the model\n",
    "    doc2vec_model = Doc2Vec(dm=0,\n",
    "                            vector_size=random.randint(64,200),\n",
    "                            window=random.randint(2,5),\n",
    "                            min_count=random.randint(3,5),\n",
    "                            workers=8,\n",
    "                            epochs=random.randint(10,50))\n",
    "    \n",
    "    # Build vocab\n",
    "    doc2vec_model.build_vocab(documents_train_title)\n",
    "    \n",
    "    # Train doc2vec model\n",
    "    doc2vec_model.train(documents_train_title, total_examples=doc2vec_model.corpus_count, epochs=doc2vec_model.epochs)\n",
    "    \n",
    "    # Extract vectors of training data\n",
    "    doc2vec_df_title = [doc2vec_model[i] for i in range(len(documents_train_title))]\n",
    "    \n",
    "    # Extract vectors of testing data\n",
    "    testing_data_title = [doc2vec_model.infer_vector(str(document).split()) for document in X_test['title']]\n",
    "    \n",
    "    # Algorithm\n",
    "    svm_decision_doc2vec = svm.SVC(random_state = 42,class_weight='balanced')\n",
    "    \n",
    "    # Fit the model\n",
    "    clf_title = svm_decision_doc2vec.fit(doc2vec_df_title, y_train)\n",
    "    \n",
    "    test_predictions_doc2vec_title = svm_decision_doc2vec.predict(testing_data_title)\n",
    "    \n",
    "    print('dm:'+str(doc2vec_model.dm),\n",
    "          'vector_size:'+str(doc2vec_model.vector_size),\n",
    "          'window:'+str(doc2vec_model.window),\n",
    "          'min_count:'+str(doc2vec_model.min_count),\n",
    "          'workers:'+str(doc2vec_model.workers),\n",
    "          'epochs:'+str(doc2vec_model.epochs))\n",
    "    print(classification_report(y_test,test_predictions_doc2vec_title))"
   ]
  },
  {
   "cell_type": "code",
   "execution_count": 24,
   "id": "2e3a17fe",
   "metadata": {},
   "outputs": [
    {
     "name": "stderr",
     "output_type": "stream",
     "text": [
      "<ipython-input-24-2036f07de884>:41: DeprecationWarning: Call to deprecated `min_count` (Attribute will be removed in 4.0.0, use self.vocabulary.min_count instead).\n",
      "  'min_count:'+str(doc2vec_model.min_count),\n"
     ]
    },
    {
     "name": "stdout",
     "output_type": "stream",
     "text": [
      "dm:False vector_size:71 window:3 min_count:5 workers:8 epochs:29\n",
      "              precision    recall  f1-score   support\n",
      "\n",
      "           0       0.91      1.00      0.95     13598\n",
      "           1       0.25      0.01      0.01      1402\n",
      "\n",
      "    accuracy                           0.91     15000\n",
      "   macro avg       0.58      0.50      0.48     15000\n",
      "weighted avg       0.85      0.91      0.86     15000\n",
      "\n"
     ]
    },
    {
     "name": "stderr",
     "output_type": "stream",
     "text": [
      "<ipython-input-24-2036f07de884>:41: DeprecationWarning: Call to deprecated `min_count` (Attribute will be removed in 4.0.0, use self.vocabulary.min_count instead).\n",
      "  'min_count:'+str(doc2vec_model.min_count),\n"
     ]
    },
    {
     "name": "stdout",
     "output_type": "stream",
     "text": [
      "dm:False vector_size:179 window:4 min_count:3 workers:8 epochs:44\n",
      "              precision    recall  f1-score   support\n",
      "\n",
      "           0       0.91      1.00      0.95     13598\n",
      "           1       0.33      0.00      0.00      1402\n",
      "\n",
      "    accuracy                           0.91     15000\n",
      "   macro avg       0.62      0.50      0.48     15000\n",
      "weighted avg       0.85      0.91      0.86     15000\n",
      "\n"
     ]
    },
    {
     "name": "stderr",
     "output_type": "stream",
     "text": [
      "<ipython-input-24-2036f07de884>:41: DeprecationWarning: Call to deprecated `min_count` (Attribute will be removed in 4.0.0, use self.vocabulary.min_count instead).\n",
      "  'min_count:'+str(doc2vec_model.min_count),\n"
     ]
    },
    {
     "name": "stdout",
     "output_type": "stream",
     "text": [
      "dm:False vector_size:172 window:3 min_count:4 workers:8 epochs:17\n",
      "              precision    recall  f1-score   support\n",
      "\n",
      "           0       0.95      0.63      0.76     13598\n",
      "           1       0.16      0.67      0.26      1402\n",
      "\n",
      "    accuracy                           0.64     15000\n",
      "   macro avg       0.55      0.65      0.51     15000\n",
      "weighted avg       0.88      0.64      0.71     15000\n",
      "\n"
     ]
    },
    {
     "name": "stderr",
     "output_type": "stream",
     "text": [
      "<ipython-input-24-2036f07de884>:41: DeprecationWarning: Call to deprecated `min_count` (Attribute will be removed in 4.0.0, use self.vocabulary.min_count instead).\n",
      "  'min_count:'+str(doc2vec_model.min_count),\n"
     ]
    },
    {
     "name": "stdout",
     "output_type": "stream",
     "text": [
      "dm:False vector_size:181 window:2 min_count:4 workers:8 epochs:39\n",
      "              precision    recall  f1-score   support\n",
      "\n",
      "           0       0.91      1.00      0.95     13598\n",
      "           1       0.33      0.00      0.00      1402\n",
      "\n",
      "    accuracy                           0.91     15000\n",
      "   macro avg       0.62      0.50      0.48     15000\n",
      "weighted avg       0.85      0.91      0.86     15000\n",
      "\n"
     ]
    },
    {
     "name": "stderr",
     "output_type": "stream",
     "text": [
      "<ipython-input-24-2036f07de884>:41: DeprecationWarning: Call to deprecated `min_count` (Attribute will be removed in 4.0.0, use self.vocabulary.min_count instead).\n",
      "  'min_count:'+str(doc2vec_model.min_count),\n"
     ]
    },
    {
     "name": "stdout",
     "output_type": "stream",
     "text": [
      "dm:False vector_size:65 window:2 min_count:3 workers:8 epochs:50\n",
      "              precision    recall  f1-score   support\n",
      "\n",
      "           0       0.91      1.00      0.95     13598\n",
      "           1       0.00      0.00      0.00      1402\n",
      "\n",
      "    accuracy                           0.91     15000\n",
      "   macro avg       0.45      0.50      0.48     15000\n",
      "weighted avg       0.82      0.91      0.86     15000\n",
      "\n"
     ]
    },
    {
     "name": "stderr",
     "output_type": "stream",
     "text": [
      "<ipython-input-24-2036f07de884>:41: DeprecationWarning: Call to deprecated `min_count` (Attribute will be removed in 4.0.0, use self.vocabulary.min_count instead).\n",
      "  'min_count:'+str(doc2vec_model.min_count),\n"
     ]
    },
    {
     "name": "stdout",
     "output_type": "stream",
     "text": [
      "dm:False vector_size:173 window:3 min_count:4 workers:8 epochs:16\n",
      "              precision    recall  f1-score   support\n",
      "\n",
      "           0       0.95      0.60      0.74     13598\n",
      "           1       0.15      0.69      0.25      1402\n",
      "\n",
      "    accuracy                           0.61     15000\n",
      "   macro avg       0.55      0.65      0.49     15000\n",
      "weighted avg       0.88      0.61      0.69     15000\n",
      "\n",
      "dm:False vector_size:141 window:4 min_count:4 workers:8 epochs:50\n",
      "              precision    recall  f1-score   support\n",
      "\n",
      "           0       0.91      1.00      0.95     13598\n",
      "           1       0.50      0.00      0.00      1402\n",
      "\n",
      "    accuracy                           0.91     15000\n",
      "   macro avg       0.70      0.50      0.48     15000\n",
      "weighted avg       0.87      0.91      0.86     15000\n",
      "\n"
     ]
    },
    {
     "name": "stderr",
     "output_type": "stream",
     "text": [
      "<ipython-input-24-2036f07de884>:41: DeprecationWarning: Call to deprecated `min_count` (Attribute will be removed in 4.0.0, use self.vocabulary.min_count instead).\n",
      "  'min_count:'+str(doc2vec_model.min_count),\n"
     ]
    }
   ],
   "source": [
    "# Hyperparameter tuning for ABSTRACT\n",
    "from sklearn import svm\n",
    "\n",
    "number_iterations = 7\n",
    "\n",
    "for i in range(number_iterations):\n",
    "    \n",
    "    documents_train_abs = [TaggedDocument(str(doc).split(), [i, label]) for i, (doc, label) in enumerate(zip(X_train['abstract'], y_train))]\n",
    "     \n",
    "    # Initialize the model\n",
    "    doc2vec_model = Doc2Vec(dm=0,\n",
    "                            vector_size=random.randint(64,200),\n",
    "                            window=random.randint(2,5),\n",
    "                            min_count=random.randint(3,5),\n",
    "                            workers=8,\n",
    "                            epochs=random.randint(10,50))\n",
    "    \n",
    "    # Build vocab\n",
    "    doc2vec_model.build_vocab(documents_train_abs)\n",
    "    \n",
    "    # Train doc2vec model\n",
    "    doc2vec_model.train(documents_train_title, total_examples=doc2vec_model.corpus_count, epochs=doc2vec_model.epochs)\n",
    "    \n",
    "    # Extract vectors of training data\n",
    "    doc2vec_df_abs = [doc2vec_model[i] for i in range(len(documents_train_abs))]\n",
    "    \n",
    "    # Extract vectors of testing data\n",
    "    testing_data_abs = [doc2vec_model.infer_vector(str(document).split()) for document in X_test['abstract']]\n",
    "    \n",
    "    # Algorithm\n",
    "    svm_decision_doc2vec = svm.SVC(random_state = 42,class_weight='balanced')\n",
    "    \n",
    "    # Fit the model\n",
    "    clf_title = svm_decision_doc2vec.fit(doc2vec_df_abs, y_train)\n",
    "    \n",
    "    test_predictions_doc2vec_abs = svm_decision_doc2vec.predict(testing_data_abs)\n",
    "    \n",
    "    print('dm:'+str(doc2vec_model.dm),\n",
    "          'vector_size:'+str(doc2vec_model.vector_size),\n",
    "          'window:'+str(doc2vec_model.window),\n",
    "          'min_count:'+str(doc2vec_model.min_count),\n",
    "          'workers:'+str(doc2vec_model.workers),\n",
    "          'epochs:'+str(doc2vec_model.epochs))\n",
    "    print(classification_report(y_test,test_predictions_doc2vec_abs))"
   ]
  },
  {
   "cell_type": "code",
   "execution_count": 25,
   "id": "36ba915f",
   "metadata": {},
   "outputs": [
    {
     "name": "stdout",
     "output_type": "stream",
     "text": [
      "              precision    recall  f1-score   support\n",
      "\n",
      "           0       0.95      0.91      0.93     13598\n",
      "           1       0.39      0.58      0.46      1402\n",
      "\n",
      "    accuracy                           0.88     15000\n",
      "   macro avg       0.67      0.74      0.70     15000\n",
      "weighted avg       0.90      0.88      0.89     15000\n",
      "\n",
      "dm:False vector_size:83 window:3 min_count:3 workers:8 epochs:50\n"
     ]
    },
    {
     "name": "stderr",
     "output_type": "stream",
     "text": [
      "<ipython-input-25-8f1285974932>:43: DeprecationWarning: Call to deprecated `min_count` (Attribute will be removed in 4.0.0, use self.vocabulary.min_count instead).\n",
      "  'min_count:'+str(doc2vec_model.min_count),\n"
     ]
    },
    {
     "name": "stdout",
     "output_type": "stream",
     "text": [
      "              precision    recall  f1-score   support\n",
      "\n",
      "           0       0.94      0.95      0.95     13598\n",
      "           1       0.47      0.42      0.44      1402\n",
      "\n",
      "    accuracy                           0.90     15000\n",
      "   macro avg       0.70      0.68      0.69     15000\n",
      "weighted avg       0.90      0.90      0.90     15000\n",
      "\n",
      "dm:False vector_size:185 window:5 min_count:5 workers:8 epochs:39\n"
     ]
    },
    {
     "name": "stderr",
     "output_type": "stream",
     "text": [
      "<ipython-input-25-8f1285974932>:43: DeprecationWarning: Call to deprecated `min_count` (Attribute will be removed in 4.0.0, use self.vocabulary.min_count instead).\n",
      "  'min_count:'+str(doc2vec_model.min_count),\n"
     ]
    },
    {
     "name": "stdout",
     "output_type": "stream",
     "text": [
      "              precision    recall  f1-score   support\n",
      "\n",
      "           0       0.95      0.93      0.94     13598\n",
      "           1       0.42      0.52      0.47      1402\n",
      "\n",
      "    accuracy                           0.89     15000\n",
      "   macro avg       0.68      0.72      0.70     15000\n",
      "weighted avg       0.90      0.89      0.89     15000\n",
      "\n",
      "dm:False vector_size:114 window:5 min_count:5 workers:8 epochs:43\n"
     ]
    },
    {
     "name": "stderr",
     "output_type": "stream",
     "text": [
      "<ipython-input-25-8f1285974932>:43: DeprecationWarning: Call to deprecated `min_count` (Attribute will be removed in 4.0.0, use self.vocabulary.min_count instead).\n",
      "  'min_count:'+str(doc2vec_model.min_count),\n"
     ]
    },
    {
     "name": "stdout",
     "output_type": "stream",
     "text": [
      "              precision    recall  f1-score   support\n",
      "\n",
      "           0       0.95      0.94      0.94     13598\n",
      "           1       0.44      0.48      0.46      1402\n",
      "\n",
      "    accuracy                           0.89     15000\n",
      "   macro avg       0.69      0.71      0.70     15000\n",
      "weighted avg       0.90      0.89      0.90     15000\n",
      "\n",
      "dm:False vector_size:157 window:5 min_count:4 workers:8 epochs:33\n"
     ]
    },
    {
     "name": "stderr",
     "output_type": "stream",
     "text": [
      "<ipython-input-25-8f1285974932>:43: DeprecationWarning: Call to deprecated `min_count` (Attribute will be removed in 4.0.0, use self.vocabulary.min_count instead).\n",
      "  'min_count:'+str(doc2vec_model.min_count),\n"
     ]
    },
    {
     "name": "stdout",
     "output_type": "stream",
     "text": [
      "              precision    recall  f1-score   support\n",
      "\n",
      "           0       0.95      0.93      0.94     13598\n",
      "           1       0.42      0.51      0.46      1402\n",
      "\n",
      "    accuracy                           0.89     15000\n",
      "   macro avg       0.69      0.72      0.70     15000\n",
      "weighted avg       0.90      0.89      0.89     15000\n",
      "\n",
      "dm:False vector_size:129 window:2 min_count:3 workers:8 epochs:32\n"
     ]
    },
    {
     "name": "stderr",
     "output_type": "stream",
     "text": [
      "<ipython-input-25-8f1285974932>:43: DeprecationWarning: Call to deprecated `min_count` (Attribute will be removed in 4.0.0, use self.vocabulary.min_count instead).\n",
      "  'min_count:'+str(doc2vec_model.min_count),\n"
     ]
    },
    {
     "name": "stdout",
     "output_type": "stream",
     "text": [
      "              precision    recall  f1-score   support\n",
      "\n",
      "           0       0.95      0.93      0.94     13598\n",
      "           1       0.43      0.53      0.47      1402\n",
      "\n",
      "    accuracy                           0.89     15000\n",
      "   macro avg       0.69      0.73      0.71     15000\n",
      "weighted avg       0.90      0.89      0.90     15000\n",
      "\n",
      "dm:False vector_size:121 window:2 min_count:3 workers:8 epochs:39\n"
     ]
    },
    {
     "name": "stderr",
     "output_type": "stream",
     "text": [
      "<ipython-input-25-8f1285974932>:43: DeprecationWarning: Call to deprecated `min_count` (Attribute will be removed in 4.0.0, use self.vocabulary.min_count instead).\n",
      "  'min_count:'+str(doc2vec_model.min_count),\n"
     ]
    },
    {
     "name": "stdout",
     "output_type": "stream",
     "text": [
      "              precision    recall  f1-score   support\n",
      "\n",
      "           0       0.96      0.89      0.92     13598\n",
      "           1       0.37      0.63      0.47      1402\n",
      "\n",
      "    accuracy                           0.87     15000\n",
      "   macro avg       0.67      0.76      0.70     15000\n",
      "weighted avg       0.90      0.87      0.88     15000\n",
      "\n",
      "dm:False vector_size:72 window:5 min_count:4 workers:8 epochs:19\n"
     ]
    },
    {
     "name": "stderr",
     "output_type": "stream",
     "text": [
      "<ipython-input-25-8f1285974932>:43: DeprecationWarning: Call to deprecated `min_count` (Attribute will be removed in 4.0.0, use self.vocabulary.min_count instead).\n",
      "  'min_count:'+str(doc2vec_model.min_count),\n"
     ]
    }
   ],
   "source": [
    "# Hyperparameter tuning for CLAIMS\n",
    "from sklearn import svm\n",
    "\n",
    "number_iterations = 7\n",
    "\n",
    "for i in range(number_iterations):\n",
    "    \n",
    "    documents_train_claims = [TaggedDocument(str(doc).split(), [i, label]) for i, (doc, label) in enumerate(zip(X_train['claims'], y_train))]\n",
    "     \n",
    "     # Initialize the model\n",
    "    doc2vec_model = Doc2Vec(dm=0,\n",
    "                            vector_size=random.randint(64,200),\n",
    "                            window=random.randint(2,5),\n",
    "                            min_count=random.randint(3,5),\n",
    "                            workers=8,\n",
    "                            epochs=random.randint(10,50))\n",
    "\n",
    "    # Build vocab\n",
    "    doc2vec_model.build_vocab(documents_train_claims)\n",
    "\n",
    "    # Train doc2vec model\n",
    "    doc2vec_model.train(documents_train_claims, total_examples=doc2vec_model.corpus_count, epochs=doc2vec_model.epochs)\n",
    "\n",
    "    # Extract vectors of training data\n",
    "    doc2vec_df_claims = [doc2vec_model[i] for i in range(len(documents_train_claims))]\n",
    "\n",
    "    # Extract vectors of testing data\n",
    "    testing_data_claims = [doc2vec_model.infer_vector(str(document).split()) for document in X_test['claims']]\n",
    "\n",
    "    # SVM Model\n",
    "    svm_decision_doc2vec = svm.SVC(random_state = 42,class_weight='balanced')\n",
    "\n",
    "    # Fit the model\n",
    "    clf_claims = svm_decision_doc2vec.fit(doc2vec_df_claims, y_train)\n",
    "\n",
    "    test_predictions_doc2vec_claims = svm_decision_doc2vec.predict(testing_data_claims)\n",
    "\n",
    "    print(classification_report(y_test,test_predictions_doc2vec_claims))\n",
    "    \n",
    "    print('dm:'+str(doc2vec_model.dm),\n",
    "          'vector_size:'+str(doc2vec_model.vector_size),\n",
    "          'window:'+str(doc2vec_model.window),\n",
    "          'min_count:'+str(doc2vec_model.min_count),\n",
    "          'workers:'+str(doc2vec_model.workers),\n",
    "          'epochs:'+str(doc2vec_model.epochs))"
   ]
  },
  {
   "cell_type": "code",
   "execution_count": 26,
   "id": "3f03353a",
   "metadata": {},
   "outputs": [
    {
     "name": "stdout",
     "output_type": "stream",
     "text": [
      "              precision    recall  f1-score   support\n",
      "\n",
      "           0       0.95      0.92      0.94     13598\n",
      "           1       0.42      0.54      0.47      1402\n",
      "\n",
      "    accuracy                           0.89     15000\n",
      "   macro avg       0.69      0.73      0.70     15000\n",
      "weighted avg       0.90      0.89      0.89     15000\n",
      "\n",
      "dm:False vector_size:115 window:2 min_count:4 workers:8 epochs:28\n"
     ]
    },
    {
     "name": "stderr",
     "output_type": "stream",
     "text": [
      "<ipython-input-26-9ba316d37b91>:44: DeprecationWarning: Call to deprecated `min_count` (Attribute will be removed in 4.0.0, use self.vocabulary.min_count instead).\n",
      "  'min_count:'+str(doc2vec_model.min_count),\n"
     ]
    },
    {
     "name": "stdout",
     "output_type": "stream",
     "text": [
      "              precision    recall  f1-score   support\n",
      "\n",
      "           0       0.95      0.94      0.94     13598\n",
      "           1       0.46      0.51      0.49      1402\n",
      "\n",
      "    accuracy                           0.90     15000\n",
      "   macro avg       0.71      0.72      0.71     15000\n",
      "weighted avg       0.90      0.90      0.90     15000\n",
      "\n",
      "dm:False vector_size:198 window:3 min_count:4 workers:8 epochs:20\n"
     ]
    },
    {
     "name": "stderr",
     "output_type": "stream",
     "text": [
      "<ipython-input-26-9ba316d37b91>:44: DeprecationWarning: Call to deprecated `min_count` (Attribute will be removed in 4.0.0, use self.vocabulary.min_count instead).\n",
      "  'min_count:'+str(doc2vec_model.min_count),\n"
     ]
    },
    {
     "name": "stdout",
     "output_type": "stream",
     "text": [
      "              precision    recall  f1-score   support\n",
      "\n",
      "           0       0.95      0.93      0.94     13598\n",
      "           1       0.45      0.57      0.50      1402\n",
      "\n",
      "    accuracy                           0.89     15000\n",
      "   macro avg       0.70      0.75      0.72     15000\n",
      "weighted avg       0.91      0.89      0.90     15000\n",
      "\n",
      "dm:False vector_size:163 window:5 min_count:4 workers:8 epochs:15\n"
     ]
    },
    {
     "name": "stderr",
     "output_type": "stream",
     "text": [
      "<ipython-input-26-9ba316d37b91>:44: DeprecationWarning: Call to deprecated `min_count` (Attribute will be removed in 4.0.0, use self.vocabulary.min_count instead).\n",
      "  'min_count:'+str(doc2vec_model.min_count),\n"
     ]
    },
    {
     "name": "stdout",
     "output_type": "stream",
     "text": [
      "              precision    recall  f1-score   support\n",
      "\n",
      "           0       0.94      0.94      0.94     13598\n",
      "           1       0.44      0.47      0.45      1402\n",
      "\n",
      "    accuracy                           0.90     15000\n",
      "   macro avg       0.69      0.70      0.70     15000\n",
      "weighted avg       0.90      0.90      0.90     15000\n",
      "\n",
      "dm:False vector_size:139 window:5 min_count:4 workers:8 epochs:42\n"
     ]
    },
    {
     "name": "stderr",
     "output_type": "stream",
     "text": [
      "<ipython-input-26-9ba316d37b91>:44: DeprecationWarning: Call to deprecated `min_count` (Attribute will be removed in 4.0.0, use self.vocabulary.min_count instead).\n",
      "  'min_count:'+str(doc2vec_model.min_count),\n"
     ]
    },
    {
     "name": "stdout",
     "output_type": "stream",
     "text": [
      "              precision    recall  f1-score   support\n",
      "\n",
      "           0       0.95      0.93      0.94     13598\n",
      "           1       0.42      0.49      0.45      1402\n",
      "\n",
      "    accuracy                           0.89     15000\n",
      "   macro avg       0.68      0.71      0.70     15000\n",
      "weighted avg       0.90      0.89      0.89     15000\n",
      "\n",
      "dm:False vector_size:120 window:3 min_count:3 workers:8 epochs:46\n"
     ]
    },
    {
     "name": "stderr",
     "output_type": "stream",
     "text": [
      "<ipython-input-26-9ba316d37b91>:44: DeprecationWarning: Call to deprecated `min_count` (Attribute will be removed in 4.0.0, use self.vocabulary.min_count instead).\n",
      "  'min_count:'+str(doc2vec_model.min_count),\n"
     ]
    },
    {
     "name": "stdout",
     "output_type": "stream",
     "text": [
      "              precision    recall  f1-score   support\n",
      "\n",
      "           0       0.95      0.93      0.94     13598\n",
      "           1       0.42      0.52      0.46      1402\n",
      "\n",
      "    accuracy                           0.89     15000\n",
      "   macro avg       0.68      0.72      0.70     15000\n",
      "weighted avg       0.90      0.89      0.89     15000\n",
      "\n",
      "dm:False vector_size:111 window:5 min_count:3 workers:8 epochs:39\n"
     ]
    },
    {
     "name": "stderr",
     "output_type": "stream",
     "text": [
      "<ipython-input-26-9ba316d37b91>:44: DeprecationWarning: Call to deprecated `min_count` (Attribute will be removed in 4.0.0, use self.vocabulary.min_count instead).\n",
      "  'min_count:'+str(doc2vec_model.min_count),\n"
     ]
    },
    {
     "name": "stdout",
     "output_type": "stream",
     "text": [
      "              precision    recall  f1-score   support\n",
      "\n",
      "           0       0.96      0.88      0.92     13598\n",
      "           1       0.37      0.66      0.48      1402\n",
      "\n",
      "    accuracy                           0.86     15000\n",
      "   macro avg       0.67      0.77      0.70     15000\n",
      "weighted avg       0.91      0.86      0.88     15000\n",
      "\n",
      "dm:False vector_size:66 window:5 min_count:4 workers:8 epochs:14\n"
     ]
    },
    {
     "name": "stderr",
     "output_type": "stream",
     "text": [
      "<ipython-input-26-9ba316d37b91>:44: DeprecationWarning: Call to deprecated `min_count` (Attribute will be removed in 4.0.0, use self.vocabulary.min_count instead).\n",
      "  'min_count:'+str(doc2vec_model.min_count),\n"
     ]
    }
   ],
   "source": [
    "# Hyperparameter tuning for ABSTRACT & CLAIMS\n",
    "from sklearn import svm\n",
    "\n",
    "number_iterations = 7\n",
    "\n",
    "for i in range(number_iterations):\n",
    "    \n",
    "    documents_train_abs_claims = [TaggedDocument(str(doc).split(), [i, label]) for i, (doc, label) in enumerate(zip(X_train['abs_claims'], y_train))]\n",
    "     \n",
    "     # Initialize the model\n",
    "    doc2vec_model = Doc2Vec(dm=0,\n",
    "                            vector_size=random.randint(64,200),\n",
    "                            window=random.randint(2,5),\n",
    "                            min_count=random.randint(3,5),\n",
    "                            workers=8,\n",
    "                            epochs=random.randint(10,50))\n",
    "\n",
    "    # Build vocab\n",
    "    doc2vec_model.build_vocab(documents_train_abs_claims)\n",
    "\n",
    "    # Train doc2vec model\n",
    "    doc2vec_model.train(documents_train_abs_claims, total_examples=doc2vec_model.corpus_count, epochs=doc2vec_model.epochs)\n",
    "\n",
    "    # Extract vectors of training data\n",
    "    doc2vec_df_abs_claims = [doc2vec_model[i] for i in range(len(documents_train_abs_claims))]\n",
    "\n",
    "    # Extract vectors of testing data\n",
    "    testing_data_abs_claims = [doc2vec_model.infer_vector(str(document).split()) for document in X_test['abs_claims']]\n",
    "\n",
    "\n",
    "    # SVM Model\n",
    "    svm_decision_doc2vec = svm.SVC(random_state = 42,class_weight='balanced')\n",
    "\n",
    "    # Fit the model\n",
    "    clf_abs_claims = svm_decision_doc2vec.fit(doc2vec_df_abs_claims, y_train)\n",
    "\n",
    "    test_predictions_doc2vec_abs_claims = svm_decision_doc2vec.predict(testing_data_abs_claims)\n",
    "\n",
    "    print(classification_report(y_test,test_predictions_doc2vec_abs_claims))\n",
    "\n",
    "    print('dm:'+str(doc2vec_model.dm),\n",
    "          'vector_size:'+str(doc2vec_model.vector_size),\n",
    "          'window:'+str(doc2vec_model.window),\n",
    "          'min_count:'+str(doc2vec_model.min_count),\n",
    "          'workers:'+str(doc2vec_model.workers),\n",
    "          'epochs:'+str(doc2vec_model.epochs))"
   ]
  },
  {
   "cell_type": "code",
   "execution_count": 27,
   "id": "313dc5e8",
   "metadata": {},
   "outputs": [
    {
     "name": "stdout",
     "output_type": "stream",
     "text": [
      "              precision    recall  f1-score   support\n",
      "\n",
      "           0       0.95      0.93      0.94     13598\n",
      "           1       0.44      0.51      0.47      1402\n",
      "\n",
      "    accuracy                           0.89     15000\n",
      "   macro avg       0.70      0.72      0.71     15000\n",
      "weighted avg       0.90      0.89      0.90     15000\n",
      "\n",
      "dm:False vector_size:150 window:4 min_count:3 workers:8 epochs:29\n"
     ]
    },
    {
     "name": "stderr",
     "output_type": "stream",
     "text": [
      "<ipython-input-27-ea736c2e7115>:44: DeprecationWarning: Call to deprecated `min_count` (Attribute will be removed in 4.0.0, use self.vocabulary.min_count instead).\n",
      "  'min_count:'+str(doc2vec_model.min_count),\n"
     ]
    },
    {
     "name": "stdout",
     "output_type": "stream",
     "text": [
      "              precision    recall  f1-score   support\n",
      "\n",
      "           0       0.95      0.92      0.94     13598\n",
      "           1       0.43      0.57      0.49      1402\n",
      "\n",
      "    accuracy                           0.89     15000\n",
      "   macro avg       0.69      0.74      0.71     15000\n",
      "weighted avg       0.91      0.89      0.90     15000\n",
      "\n",
      "dm:False vector_size:141 window:4 min_count:3 workers:8 epochs:15\n"
     ]
    },
    {
     "name": "stderr",
     "output_type": "stream",
     "text": [
      "<ipython-input-27-ea736c2e7115>:44: DeprecationWarning: Call to deprecated `min_count` (Attribute will be removed in 4.0.0, use self.vocabulary.min_count instead).\n",
      "  'min_count:'+str(doc2vec_model.min_count),\n"
     ]
    },
    {
     "name": "stdout",
     "output_type": "stream",
     "text": [
      "              precision    recall  f1-score   support\n",
      "\n",
      "           0       0.94      0.95      0.94     13598\n",
      "           1       0.46      0.45      0.45      1402\n",
      "\n",
      "    accuracy                           0.90     15000\n",
      "   macro avg       0.70      0.70      0.70     15000\n",
      "weighted avg       0.90      0.90      0.90     15000\n",
      "\n",
      "dm:False vector_size:183 window:4 min_count:4 workers:8 epochs:34\n"
     ]
    },
    {
     "name": "stderr",
     "output_type": "stream",
     "text": [
      "<ipython-input-27-ea736c2e7115>:44: DeprecationWarning: Call to deprecated `min_count` (Attribute will be removed in 4.0.0, use self.vocabulary.min_count instead).\n",
      "  'min_count:'+str(doc2vec_model.min_count),\n"
     ]
    },
    {
     "name": "stdout",
     "output_type": "stream",
     "text": [
      "              precision    recall  f1-score   support\n",
      "\n",
      "           0       0.96      0.89      0.92     13598\n",
      "           1       0.37      0.65      0.47      1402\n",
      "\n",
      "    accuracy                           0.87     15000\n",
      "   macro avg       0.67      0.77      0.70     15000\n",
      "weighted avg       0.91      0.87      0.88     15000\n",
      "\n",
      "dm:False vector_size:70 window:4 min_count:5 workers:8 epochs:14\n"
     ]
    },
    {
     "name": "stderr",
     "output_type": "stream",
     "text": [
      "<ipython-input-27-ea736c2e7115>:44: DeprecationWarning: Call to deprecated `min_count` (Attribute will be removed in 4.0.0, use self.vocabulary.min_count instead).\n",
      "  'min_count:'+str(doc2vec_model.min_count),\n"
     ]
    },
    {
     "name": "stdout",
     "output_type": "stream",
     "text": [
      "              precision    recall  f1-score   support\n",
      "\n",
      "           0       0.95      0.94      0.94     13598\n",
      "           1       0.45      0.49      0.47      1402\n",
      "\n",
      "    accuracy                           0.90     15000\n",
      "   macro avg       0.70      0.72      0.71     15000\n",
      "weighted avg       0.90      0.90      0.90     15000\n",
      "\n",
      "dm:False vector_size:170 window:3 min_count:3 workers:8 epochs:28\n"
     ]
    },
    {
     "name": "stderr",
     "output_type": "stream",
     "text": [
      "<ipython-input-27-ea736c2e7115>:44: DeprecationWarning: Call to deprecated `min_count` (Attribute will be removed in 4.0.0, use self.vocabulary.min_count instead).\n",
      "  'min_count:'+str(doc2vec_model.min_count),\n"
     ]
    },
    {
     "name": "stdout",
     "output_type": "stream",
     "text": [
      "              precision    recall  f1-score   support\n",
      "\n",
      "           0       0.96      0.89      0.92     13598\n",
      "           1       0.38      0.65      0.48      1402\n",
      "\n",
      "    accuracy                           0.87     15000\n",
      "   macro avg       0.67      0.77      0.70     15000\n",
      "weighted avg       0.91      0.87      0.88     15000\n",
      "\n",
      "dm:False vector_size:65 window:5 min_count:5 workers:8 epochs:21\n"
     ]
    },
    {
     "name": "stderr",
     "output_type": "stream",
     "text": [
      "<ipython-input-27-ea736c2e7115>:44: DeprecationWarning: Call to deprecated `min_count` (Attribute will be removed in 4.0.0, use self.vocabulary.min_count instead).\n",
      "  'min_count:'+str(doc2vec_model.min_count),\n"
     ]
    },
    {
     "name": "stdout",
     "output_type": "stream",
     "text": [
      "              precision    recall  f1-score   support\n",
      "\n",
      "           0       0.95      0.93      0.94     13598\n",
      "           1       0.43      0.50      0.46      1402\n",
      "\n",
      "    accuracy                           0.89     15000\n",
      "   macro avg       0.69      0.72      0.70     15000\n",
      "weighted avg       0.90      0.89      0.90     15000\n",
      "\n",
      "dm:False vector_size:132 window:2 min_count:5 workers:8 epochs:50\n"
     ]
    },
    {
     "name": "stderr",
     "output_type": "stream",
     "text": [
      "<ipython-input-27-ea736c2e7115>:44: DeprecationWarning: Call to deprecated `min_count` (Attribute will be removed in 4.0.0, use self.vocabulary.min_count instead).\n",
      "  'min_count:'+str(doc2vec_model.min_count),\n"
     ]
    }
   ],
   "source": [
    "# Hyperparameter tuning for TITLE & CLAIMS\n",
    "from sklearn import svm\n",
    "\n",
    "number_iterations = 7\n",
    "\n",
    "for i in range(number_iterations):\n",
    "    \n",
    "    documents_train_title_claims = [TaggedDocument(str(doc).split(), [i, label]) for i, (doc, label) in enumerate(zip(X_train['title_claims'], y_train))]\n",
    "     \n",
    "     # Initialize the model\n",
    "    doc2vec_model = Doc2Vec(dm=0,\n",
    "                            vector_size=random.randint(64,200),\n",
    "                            window=random.randint(2,5),\n",
    "                            min_count=random.randint(3,5),\n",
    "                            workers=8,\n",
    "                            epochs=random.randint(10,50))\n",
    "\n",
    "    # Build vocab\n",
    "    doc2vec_model.build_vocab(documents_train_title_claims)\n",
    "\n",
    "    # Train doc2vec model\n",
    "    doc2vec_model.train(documents_train_title_claims, total_examples=doc2vec_model.corpus_count, epochs=doc2vec_model.epochs)\n",
    "\n",
    "    # Extract vectors of training data\n",
    "    doc2vec_df_title_claims = [doc2vec_model[i] for i in range(len(documents_train_title_claims))]\n",
    "\n",
    "    # Extract vectors of testing data\n",
    "    testing_data_title_claims = [doc2vec_model.infer_vector(str(document).split()) for document in X_test['title_claims']]\n",
    "\n",
    "\n",
    "    # SVM Model\n",
    "    svm_decision_doc2vec = svm.SVC(random_state = 42,class_weight='balanced')\n",
    "\n",
    "    # Fit the model\n",
    "    clf_title_claims = svm_decision_doc2vec.fit(doc2vec_df_title_claims, y_train)\n",
    "\n",
    "    test_predictions_doc2vec_title_claims = svm_decision_doc2vec.predict(testing_data_title_claims)\n",
    "\n",
    "    print(classification_report(y_test,test_predictions_doc2vec_title_claims))\n",
    "\n",
    "    print('dm:'+str(doc2vec_model.dm),\n",
    "          'vector_size:'+str(doc2vec_model.vector_size),\n",
    "          'window:'+str(doc2vec_model.window),\n",
    "          'min_count:'+str(doc2vec_model.min_count),\n",
    "          'workers:'+str(doc2vec_model.workers),\n",
    "          'epochs:'+str(doc2vec_model.epochs))"
   ]
  },
  {
   "cell_type": "code",
   "execution_count": 28,
   "id": "aa58be76",
   "metadata": {},
   "outputs": [
    {
     "name": "stdout",
     "output_type": "stream",
     "text": [
      "              precision    recall  f1-score   support\n",
      "\n",
      "           0       0.94      0.95      0.95     13598\n",
      "           1       0.47      0.43      0.45      1402\n",
      "\n",
      "    accuracy                           0.90     15000\n",
      "   macro avg       0.70      0.69      0.70     15000\n",
      "weighted avg       0.90      0.90      0.90     15000\n",
      "\n",
      "dm:False vector_size:159 window:5 min_count:3 workers:8 epochs:40\n"
     ]
    },
    {
     "name": "stderr",
     "output_type": "stream",
     "text": [
      "<ipython-input-28-75e9210087a5>:44: DeprecationWarning: Call to deprecated `min_count` (Attribute will be removed in 4.0.0, use self.vocabulary.min_count instead).\n",
      "  'min_count:'+str(doc2vec_model.min_count),\n"
     ]
    },
    {
     "name": "stdout",
     "output_type": "stream",
     "text": [
      "              precision    recall  f1-score   support\n",
      "\n",
      "           0       0.95      0.94      0.94     13598\n",
      "           1       0.45      0.47      0.46      1402\n",
      "\n",
      "    accuracy                           0.90     15000\n",
      "   macro avg       0.70      0.70      0.70     15000\n",
      "weighted avg       0.90      0.90      0.90     15000\n",
      "\n",
      "dm:False vector_size:130 window:5 min_count:4 workers:8 epochs:49\n"
     ]
    },
    {
     "name": "stderr",
     "output_type": "stream",
     "text": [
      "<ipython-input-28-75e9210087a5>:44: DeprecationWarning: Call to deprecated `min_count` (Attribute will be removed in 4.0.0, use self.vocabulary.min_count instead).\n",
      "  'min_count:'+str(doc2vec_model.min_count),\n"
     ]
    },
    {
     "name": "stdout",
     "output_type": "stream",
     "text": [
      "              precision    recall  f1-score   support\n",
      "\n",
      "           0       0.94      0.95      0.94     13598\n",
      "           1       0.46      0.42      0.44      1402\n",
      "\n",
      "    accuracy                           0.90     15000\n",
      "   macro avg       0.70      0.69      0.69     15000\n",
      "weighted avg       0.90      0.90      0.90     15000\n",
      "\n",
      "dm:False vector_size:149 window:5 min_count:4 workers:8 epochs:47\n"
     ]
    },
    {
     "name": "stderr",
     "output_type": "stream",
     "text": [
      "<ipython-input-28-75e9210087a5>:44: DeprecationWarning: Call to deprecated `min_count` (Attribute will be removed in 4.0.0, use self.vocabulary.min_count instead).\n",
      "  'min_count:'+str(doc2vec_model.min_count),\n"
     ]
    },
    {
     "name": "stdout",
     "output_type": "stream",
     "text": [
      "              precision    recall  f1-score   support\n",
      "\n",
      "           0       0.96      0.89      0.92     13598\n",
      "           1       0.38      0.64      0.48      1402\n",
      "\n",
      "    accuracy                           0.87     15000\n",
      "   macro avg       0.67      0.77      0.70     15000\n",
      "weighted avg       0.91      0.87      0.88     15000\n",
      "\n",
      "dm:False vector_size:65 window:5 min_count:3 workers:8 epochs:24\n"
     ]
    },
    {
     "name": "stderr",
     "output_type": "stream",
     "text": [
      "<ipython-input-28-75e9210087a5>:44: DeprecationWarning: Call to deprecated `min_count` (Attribute will be removed in 4.0.0, use self.vocabulary.min_count instead).\n",
      "  'min_count:'+str(doc2vec_model.min_count),\n"
     ]
    },
    {
     "name": "stdout",
     "output_type": "stream",
     "text": [
      "              precision    recall  f1-score   support\n",
      "\n",
      "           0       0.95      0.93      0.94     13598\n",
      "           1       0.44      0.51      0.48      1402\n",
      "\n",
      "    accuracy                           0.89     15000\n",
      "   macro avg       0.70      0.72      0.71     15000\n",
      "weighted avg       0.90      0.89      0.90     15000\n",
      "\n",
      "dm:False vector_size:121 window:5 min_count:3 workers:8 epochs:36\n"
     ]
    },
    {
     "name": "stderr",
     "output_type": "stream",
     "text": [
      "<ipython-input-28-75e9210087a5>:44: DeprecationWarning: Call to deprecated `min_count` (Attribute will be removed in 4.0.0, use self.vocabulary.min_count instead).\n",
      "  'min_count:'+str(doc2vec_model.min_count),\n"
     ]
    },
    {
     "name": "stdout",
     "output_type": "stream",
     "text": [
      "              precision    recall  f1-score   support\n",
      "\n",
      "           0       0.96      0.90      0.93     13598\n",
      "           1       0.38      0.61      0.47      1402\n",
      "\n",
      "    accuracy                           0.87     15000\n",
      "   macro avg       0.67      0.75      0.70     15000\n",
      "weighted avg       0.90      0.87      0.88     15000\n",
      "\n",
      "dm:False vector_size:72 window:2 min_count:5 workers:8 epochs:40\n"
     ]
    },
    {
     "name": "stderr",
     "output_type": "stream",
     "text": [
      "<ipython-input-28-75e9210087a5>:44: DeprecationWarning: Call to deprecated `min_count` (Attribute will be removed in 4.0.0, use self.vocabulary.min_count instead).\n",
      "  'min_count:'+str(doc2vec_model.min_count),\n"
     ]
    },
    {
     "name": "stdout",
     "output_type": "stream",
     "text": [
      "              precision    recall  f1-score   support\n",
      "\n",
      "           0       0.95      0.94      0.94     13598\n",
      "           1       0.44      0.47      0.46      1402\n",
      "\n",
      "    accuracy                           0.89     15000\n",
      "   macro avg       0.69      0.71      0.70     15000\n",
      "weighted avg       0.90      0.89      0.90     15000\n",
      "\n",
      "dm:False vector_size:137 window:2 min_count:3 workers:8 epochs:38\n"
     ]
    },
    {
     "name": "stderr",
     "output_type": "stream",
     "text": [
      "<ipython-input-28-75e9210087a5>:44: DeprecationWarning: Call to deprecated `min_count` (Attribute will be removed in 4.0.0, use self.vocabulary.min_count instead).\n",
      "  'min_count:'+str(doc2vec_model.min_count),\n"
     ]
    }
   ],
   "source": [
    "# Hyperparameter tuning for TITLE & ABSTRACT clamis\n",
    "from sklearn import svm\n",
    "\n",
    "number_iterations = 7\n",
    "\n",
    "for i in range(number_iterations):\n",
    "    \n",
    "    documents_train_tac = [TaggedDocument(str(doc).split(), [i, label]) for i, (doc, label) in enumerate(zip(X_train['tac'], y_train))]\n",
    "     \n",
    "     # Initialize the model\n",
    "    doc2vec_model = Doc2Vec(dm=0,\n",
    "                            vector_size=random.randint(64,200),\n",
    "                            window=random.randint(2,5),\n",
    "                            min_count=random.randint(3,5),\n",
    "                            workers=8,\n",
    "                            epochs=random.randint(10,50))\n",
    "\n",
    "    # Build vocab\n",
    "    doc2vec_model.build_vocab(documents_train_tac)\n",
    "\n",
    "    # Train doc2vec model\n",
    "    doc2vec_model.train(documents_train_tac, total_examples=doc2vec_model.corpus_count, epochs=doc2vec_model.epochs)\n",
    "\n",
    "    # Extract vectors of training data\n",
    "    doc2vec_df_tac = [doc2vec_model[i] for i in range(len(documents_train_tac))]\n",
    "\n",
    "    # Extract vectors of testing data\n",
    "    testing_data_tac = [doc2vec_model.infer_vector(str(document).split()) for document in X_test['tac']]\n",
    "\n",
    "\n",
    "    # SVM Model\n",
    "    svm_decision_doc2vec = svm.SVC(random_state = 42,class_weight='balanced')\n",
    "\n",
    "    # Fit the model\n",
    "    clf_tac = svm_decision_doc2vec.fit(doc2vec_df_tac, y_train)\n",
    "\n",
    "    test_predictions_doc2vec_tac = svm_decision_doc2vec.predict(testing_data_tac)\n",
    "\n",
    "    print(classification_report(y_test,test_predictions_doc2vec_tac))\n",
    "\n",
    "    print('dm:'+str(doc2vec_model.dm),\n",
    "          'vector_size:'+str(doc2vec_model.vector_size),\n",
    "          'window:'+str(doc2vec_model.window),\n",
    "          'min_count:'+str(doc2vec_model.min_count),\n",
    "          'workers:'+str(doc2vec_model.workers),\n",
    "          'epochs:'+str(doc2vec_model.epochs))"
   ]
  },
  {
   "cell_type": "markdown",
   "id": "dfe18306",
   "metadata": {},
   "source": [
    "### ROC_AUC Curve for the best performing feature"
   ]
  },
  {
   "cell_type": "code",
   "execution_count": null,
   "id": "49107cae",
   "metadata": {},
   "outputs": [],
   "source": [
    "from sklearn.metrics import roc_auc_score\n",
    "# roc_auc_score(y_test.tolist(), y_pred)\n",
    "roc_title = roc_auc_score(y_test,test_predictions_doc2vec_title)\n",
    "roc_abs = roc_auc_score(y_test,test_predictions_doc2vec_abs)\n",
    "roc_claims = roc_auc_score(y_test,test_predictions_doc2vec_claims)\n",
    "roc_title_abs = roc_auc_score(y_test,test_predictions_doc2vec_title_abs)\n",
    "roc_title_claims = roc_auc_score(y_test,test_predictions_doc2vec_title_claims)\n",
    "roc_abs_claims = roc_auc_score(y_test,test_predictions_doc2vec_abs_claims)\n",
    "roc_tac = roc_auc_score(y_test,test_predictions_doc2vec_tac)\n",
    "\n",
    "print('ROC_title:', roc_title)\n",
    "print('ROC_abstract:', roc_abs)\n",
    "print('ROC_claims:', roc_claims)\n",
    "print('ROC_title_abstract:', roc_title_abs)\n",
    "print('ROC_title_claims:', roc_title_claims)\n",
    "print('ROC_abstract_claims:', roc_abs_claims)\n",
    "print('ROC_title_claims_abstract:', roc_tac)"
   ]
  },
  {
   "cell_type": "code",
   "execution_count": null,
   "id": "36c6b46d",
   "metadata": {},
   "outputs": [],
   "source": [
    "import sklearn.metrics as metrics\n",
    "\n",
    "metrics.plot_roc_curve(svm_decision_doc2vec, testing_data_tac, y_test);"
   ]
  },
  {
   "cell_type": "code",
   "execution_count": null,
   "id": "bc9357aa",
   "metadata": {},
   "outputs": [],
   "source": [
    "from sklearn.metrics import plot_confusion_matrix\n",
    "plot_confusion_matrix(clf_title, testing_data_title, y_test);"
   ]
  },
  {
   "cell_type": "code",
   "execution_count": null,
   "id": "e8c35327",
   "metadata": {},
   "outputs": [],
   "source": []
  }
 ],
 "metadata": {
  "kernelspec": {
   "display_name": "Python 3",
   "language": "python",
   "name": "python3"
  },
  "language_info": {
   "codemirror_mode": {
    "name": "ipython",
    "version": 3
   },
   "file_extension": ".py",
   "mimetype": "text/x-python",
   "name": "python",
   "nbconvert_exporter": "python",
   "pygments_lexer": "ipython3",
   "version": "3.8.2"
  }
 },
 "nbformat": 4,
 "nbformat_minor": 5
}
