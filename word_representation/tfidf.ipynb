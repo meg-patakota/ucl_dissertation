{
 "cells": [
  {
   "cell_type": "code",
   "execution_count": 1,
   "metadata": {},
   "outputs": [],
   "source": [
    "# import packages\n",
    "import pandas as pd\n",
    "import json\n",
    "#from flat_table import normalize\n",
    "import ast\n",
    "import re\n",
    "import math\n",
    "\n",
    "import logging\n",
    "import pandas as pd\n",
    "import numpy as np\n",
    "from numpy import random\n",
    "#import gensim\n",
    "import nltk\n",
    "from sklearn.model_selection import train_test_split\n",
    "from sklearn.feature_extraction.text import CountVectorizer, TfidfVectorizer\n",
    "from sklearn.metrics import accuracy_score, confusion_matrix\n",
    "import matplotlib.pyplot as plt\n",
    "from nltk.corpus import stopwords\n",
    "import re"
   ]
  },
  {
   "cell_type": "markdown",
   "metadata": {},
   "source": [
    "## Working with train set"
   ]
  },
  {
   "cell_type": "code",
   "execution_count": 2,
   "metadata": {},
   "outputs": [
    {
     "data": {
      "text/html": [
       "<div>\n",
       "<style scoped>\n",
       "    .dataframe tbody tr th:only-of-type {\n",
       "        vertical-align: middle;\n",
       "    }\n",
       "\n",
       "    .dataframe tbody tr th {\n",
       "        vertical-align: top;\n",
       "    }\n",
       "\n",
       "    .dataframe thead th {\n",
       "        text-align: right;\n",
       "    }\n",
       "</style>\n",
       "<table border=\"1\" class=\"dataframe\">\n",
       "  <thead>\n",
       "    <tr style=\"text-align: right;\">\n",
       "      <th></th>\n",
       "      <th>Unnamed: 0</th>\n",
       "      <th>abstract.text_sw</th>\n",
       "      <th>biblio.invention_title.text_sw</th>\n",
       "      <th>claims.claims_sw</th>\n",
       "      <th>yo2</th>\n",
       "    </tr>\n",
       "  </thead>\n",
       "  <tbody>\n",
       "    <tr>\n",
       "      <th>0</th>\n",
       "      <td>98980</td>\n",
       "      <td>disclosure relates hand control input device c...</td>\n",
       "      <td>unknown</td>\n",
       "      <td>a hand control input device  comprising  a ...</td>\n",
       "      <td>0</td>\n",
       "    </tr>\n",
       "    <tr>\n",
       "      <th>1</th>\n",
       "      <td>69824</td>\n",
       "      <td>one aspect present invention directed plant pl...</td>\n",
       "      <td>bacterial spore compositions for industrial uses</td>\n",
       "      <td>a plant or plant part coated with a composi...</td>\n",
       "      <td>1</td>\n",
       "    </tr>\n",
       "    <tr>\n",
       "      <th>2</th>\n",
       "      <td>9928</td>\n",
       "      <td>demonstrative embodiments include apparatuses ...</td>\n",
       "      <td>apparatus  system and method of setting up an ...</td>\n",
       "      <td>a product comprising one or more tangible c...</td>\n",
       "      <td>0</td>\n",
       "    </tr>\n",
       "    <tr>\n",
       "      <th>3</th>\n",
       "      <td>75599</td>\n",
       "      <td>wavelength multiplexing apparatus includes div...</td>\n",
       "      <td>wavelength multiplexing apparatus and method</td>\n",
       "      <td>a wavelength multiplexing apparatus  compris...</td>\n",
       "      <td>0</td>\n",
       "    </tr>\n",
       "    <tr>\n",
       "      <th>4</th>\n",
       "      <td>95621</td>\n",
       "      <td>first second inputs received first input indic...</td>\n",
       "      <td>method and apparatus for transmitter optimizat...</td>\n",
       "      <td>canceled     a system comprising  one ...</td>\n",
       "      <td>0</td>\n",
       "    </tr>\n",
       "  </tbody>\n",
       "</table>\n",
       "</div>"
      ],
      "text/plain": [
       "   Unnamed: 0                                   abstract.text_sw  \\\n",
       "0       98980  disclosure relates hand control input device c...   \n",
       "1       69824  one aspect present invention directed plant pl...   \n",
       "2        9928  demonstrative embodiments include apparatuses ...   \n",
       "3       75599  wavelength multiplexing apparatus includes div...   \n",
       "4       95621  first second inputs received first input indic...   \n",
       "\n",
       "                      biblio.invention_title.text_sw  \\\n",
       "0                                            unknown   \n",
       "1   bacterial spore compositions for industrial uses   \n",
       "2  apparatus  system and method of setting up an ...   \n",
       "3       wavelength multiplexing apparatus and method   \n",
       "4  method and apparatus for transmitter optimizat...   \n",
       "\n",
       "                                    claims.claims_sw  yo2  \n",
       "0     a hand control input device  comprising  a ...    0  \n",
       "1     a plant or plant part coated with a composi...    1  \n",
       "2     a product comprising one or more tangible c...    0  \n",
       "3    a wavelength multiplexing apparatus  compris...    0  \n",
       "4          canceled     a system comprising  one ...    0  "
      ]
     },
     "execution_count": 2,
     "metadata": {},
     "output_type": "execute_result"
    }
   ],
   "source": [
    "# load the package\n",
    "df = pd.read_csv('/project/train_data.csv')\n",
    "df.head()"
   ]
  },
  {
   "cell_type": "code",
   "execution_count": 3,
   "metadata": {},
   "outputs": [],
   "source": [
    "df = df[['abstract.text_sw','biblio.invention_title.text_sw','claims.claims_sw','yo2']]"
   ]
  },
  {
   "cell_type": "code",
   "execution_count": 4,
   "metadata": {},
   "outputs": [
    {
     "data": {
      "text/html": [
       "<div>\n",
       "<style scoped>\n",
       "    .dataframe tbody tr th:only-of-type {\n",
       "        vertical-align: middle;\n",
       "    }\n",
       "\n",
       "    .dataframe tbody tr th {\n",
       "        vertical-align: top;\n",
       "    }\n",
       "\n",
       "    .dataframe thead th {\n",
       "        text-align: right;\n",
       "    }\n",
       "</style>\n",
       "<table border=\"1\" class=\"dataframe\">\n",
       "  <thead>\n",
       "    <tr style=\"text-align: right;\">\n",
       "      <th></th>\n",
       "      <th>abstract.text_sw</th>\n",
       "      <th>biblio.invention_title.text_sw</th>\n",
       "      <th>claims.claims_sw</th>\n",
       "      <th>yo2</th>\n",
       "    </tr>\n",
       "  </thead>\n",
       "  <tbody>\n",
       "    <tr>\n",
       "      <th>0</th>\n",
       "      <td>disclosure relates hand control input device c...</td>\n",
       "      <td>unknown</td>\n",
       "      <td>a hand control input device  comprising  a ...</td>\n",
       "      <td>0</td>\n",
       "    </tr>\n",
       "    <tr>\n",
       "      <th>1</th>\n",
       "      <td>one aspect present invention directed plant pl...</td>\n",
       "      <td>bacterial spore compositions for industrial uses</td>\n",
       "      <td>a plant or plant part coated with a composi...</td>\n",
       "      <td>1</td>\n",
       "    </tr>\n",
       "    <tr>\n",
       "      <th>2</th>\n",
       "      <td>demonstrative embodiments include apparatuses ...</td>\n",
       "      <td>apparatus  system and method of setting up an ...</td>\n",
       "      <td>a product comprising one or more tangible c...</td>\n",
       "      <td>0</td>\n",
       "    </tr>\n",
       "    <tr>\n",
       "      <th>3</th>\n",
       "      <td>wavelength multiplexing apparatus includes div...</td>\n",
       "      <td>wavelength multiplexing apparatus and method</td>\n",
       "      <td>a wavelength multiplexing apparatus  compris...</td>\n",
       "      <td>0</td>\n",
       "    </tr>\n",
       "    <tr>\n",
       "      <th>4</th>\n",
       "      <td>first second inputs received first input indic...</td>\n",
       "      <td>method and apparatus for transmitter optimizat...</td>\n",
       "      <td>canceled     a system comprising  one ...</td>\n",
       "      <td>0</td>\n",
       "    </tr>\n",
       "  </tbody>\n",
       "</table>\n",
       "</div>"
      ],
      "text/plain": [
       "                                    abstract.text_sw  \\\n",
       "0  disclosure relates hand control input device c...   \n",
       "1  one aspect present invention directed plant pl...   \n",
       "2  demonstrative embodiments include apparatuses ...   \n",
       "3  wavelength multiplexing apparatus includes div...   \n",
       "4  first second inputs received first input indic...   \n",
       "\n",
       "                      biblio.invention_title.text_sw  \\\n",
       "0                                            unknown   \n",
       "1   bacterial spore compositions for industrial uses   \n",
       "2  apparatus  system and method of setting up an ...   \n",
       "3       wavelength multiplexing apparatus and method   \n",
       "4  method and apparatus for transmitter optimizat...   \n",
       "\n",
       "                                    claims.claims_sw  yo2  \n",
       "0     a hand control input device  comprising  a ...    0  \n",
       "1     a plant or plant part coated with a composi...    1  \n",
       "2     a product comprising one or more tangible c...    0  \n",
       "3    a wavelength multiplexing apparatus  compris...    0  \n",
       "4          canceled     a system comprising  one ...    0  "
      ]
     },
     "execution_count": 4,
     "metadata": {},
     "output_type": "execute_result"
    }
   ],
   "source": [
    "df.head()"
   ]
  },
  {
   "cell_type": "code",
   "execution_count": 5,
   "metadata": {},
   "outputs": [],
   "source": [
    "# split train and test\n",
    "y = df['yo2']\n",
    "X = df.drop(columns = 'yo2')"
   ]
  },
  {
   "cell_type": "code",
   "execution_count": 6,
   "metadata": {},
   "outputs": [],
   "source": [
    "# train and validation split\n",
    "X_train, X_test, y_train, y_test = train_test_split(X, y, test_size=0.25, random_state = 42)"
   ]
  },
  {
   "cell_type": "code",
   "execution_count": 7,
   "metadata": {},
   "outputs": [
    {
     "data": {
      "text/plain": [
       "(56250, 3)"
      ]
     },
     "execution_count": 7,
     "metadata": {},
     "output_type": "execute_result"
    }
   ],
   "source": [
    "X_train.shape"
   ]
  },
  {
   "cell_type": "code",
   "execution_count": 8,
   "metadata": {},
   "outputs": [],
   "source": [
    "from sklearn.svm import LinearSVC\n",
    "from sklearn.model_selection import GridSearchCV\n",
    "from sklearn.calibration import CalibratedClassifierCV\n",
    "from sklearn.feature_extraction.text import TfidfVectorizer\n",
    "from sklearn.pipeline import Pipeline\n",
    "from sklearn.metrics import classification_report\n",
    "\n",
    "# svm\n",
    "algorithm = LinearSVC(class_weight='balanced',random_state=42)\n",
    "\n",
    "# define paramater space\n",
    "space = dict()\n",
    "space['calibrated__base_estimator__C'] = [0.1, 1, 10, 100]\n",
    "\n",
    "# choose number of folds\n",
    "n_folds = 5\n",
    "\n",
    "train_pipe = Pipeline([('pipe_tfidf', TfidfVectorizer()),\n",
    "                ('calibrated', CalibratedClassifierCV(base_estimator=algorithm, cv=5))\n",
    "                 ])\n",
    "\n",
    "# perform hyperparameter tuning with randomised grid search, plus\n",
    "# stratified cross validation\n",
    "grid = GridSearchCV(estimator=train_pipe,\n",
    "                  param_grid=space,\n",
    "                  scoring=\"roc_auc\",\n",
    "                  n_jobs=-1,\n",
    "                  cv=n_folds)"
   ]
  },
  {
   "cell_type": "code",
   "execution_count": 16,
   "metadata": {
    "scrolled": false
   },
   "outputs": [
    {
     "name": "stdout",
     "output_type": "stream",
     "text": [
      "Best Hyperparameters: {'calibrated__base_estimator__C': 0.1}\n",
      "Best AUC: 0.8619973132963967\n",
      "              precision    recall  f1-score   support\n",
      "\n",
      "           0       0.93      0.99      0.96     16916\n",
      "           1       0.73      0.32      0.44      1834\n",
      "\n",
      "    accuracy                           0.92     18750\n",
      "   macro avg       0.83      0.65      0.70     18750\n",
      "weighted avg       0.91      0.92      0.91     18750\n",
      "\n"
     ]
    }
   ],
   "source": [
    "# SVM Model on ABSTRACT\n",
    "\n",
    "# search for best hyperparameterisation\n",
    "best_model_abs = grid.fit(X_train.iloc[:,0], y_train)\n",
    "\n",
    "print('Best Hyperparameters: %s' % best_model_abs.best_params_)\n",
    "print('Best AUC: %s' % best_model_abs.best_score_)\n",
    "\n",
    "preds_abs = best_model_abs.predict(X_test.iloc[:,0])\n",
    "\n",
    "print(classification_report(y_test,preds_abs))"
   ]
  },
  {
   "cell_type": "code",
   "execution_count": 9,
   "metadata": {
    "scrolled": false
   },
   "outputs": [
    {
     "name": "stdout",
     "output_type": "stream",
     "text": [
      "Best Hyperparameters: {'calibrated__base_estimator__C': 0.1}\n",
      "Best AUC: 0.7895042673463909\n",
      "              precision    recall  f1-score   support\n",
      "\n",
      "           0       0.92      0.99      0.96     16916\n",
      "           1       0.76      0.20      0.32      1834\n",
      "\n",
      "    accuracy                           0.92     18750\n",
      "   macro avg       0.84      0.60      0.64     18750\n",
      "weighted avg       0.90      0.92      0.89     18750\n",
      "\n"
     ]
    }
   ],
   "source": [
    "# SVM model on TITLE\n",
    "\n",
    "# search for best hyperparameterisation\n",
    "best_model_title = grid.fit(X_train.iloc[:,1], y_train)\n",
    "\n",
    "print('Best Hyperparameters: %s' % best_model_title.best_params_)\n",
    "print('Best AUC: %s' % best_model_title.best_score_)\n",
    "\n",
    "preds_title = best_model_title.predict(X_test.iloc[:,1])\n",
    "\n",
    "print(classification_report(y_test,preds_title))"
   ]
  },
  {
   "cell_type": "code",
   "execution_count": 185,
   "metadata": {},
   "outputs": [],
   "source": [
    "# pd.DataFrame(preds_title[:,1]).hist(bins=50)"
   ]
  },
  {
   "cell_type": "code",
   "execution_count": 19,
   "metadata": {},
   "outputs": [
    {
     "data": {
      "text/plain": [
       "<sklearn.metrics._plot.precision_recall_curve.PrecisionRecallDisplay at 0x7f962c6dd280>"
      ]
     },
     "execution_count": 19,
     "metadata": {},
     "output_type": "execute_result"
    },
    {
     "data": {
      "image/png": "[encoded data removed]",
      "text/plain": [
       "<Figure size 432x288 with 1 Axes>"
      ]
     },
     "metadata": {
      "needs_background": "light"
     },
     "output_type": "display_data"
    }
   ],
   "source": [
    "# precision and recall plot\n",
    "from sklearn.metrics import precision_recall_curve\n",
    "from sklearn.metrics import plot_precision_recall_curve\n",
    "import matplotlib.pyplot as plt\n",
    "plot_precision_recall_curve(best_model_title, X_test.iloc[:,1], y_test)"
   ]
  },
  {
   "cell_type": "code",
   "execution_count": 20,
   "metadata": {
    "scrolled": true
   },
   "outputs": [
    {
     "data": {
      "text/plain": [
       "array([[16799,   117],\n",
       "       [ 1461,   373]])"
      ]
     },
     "execution_count": 20,
     "metadata": {},
     "output_type": "execute_result"
    }
   ],
   "source": [
    "# confusion matrix \n",
    "from sklearn.metrics import confusion_matrix\n",
    "confusion_matrix(y_test,preds_title)"
   ]
  },
  {
   "cell_type": "code",
   "execution_count": 24,
   "metadata": {},
   "outputs": [
    {
     "data": {
      "image/png": "[encoded data removed]",
      "text/plain": [
       "<Figure size 432x288 with 2 Axes>"
      ]
     },
     "metadata": {
      "needs_background": "light"
     },
     "output_type": "display_data"
    }
   ],
   "source": [
    "# confusion matrix plot\n",
    "import sklearn.metrics as metrics\n",
    "metrics.plot_confusion_matrix(best_model_title, X_test.iloc[:,1], y_test);"
   ]
  },
  {
   "cell_type": "code",
   "execution_count": 25,
   "metadata": {},
   "outputs": [
    {
     "data": {
      "text/plain": [
       "<sklearn.metrics._plot.roc_curve.RocCurveDisplay at 0x7f95b65fb580>"
      ]
     },
     "execution_count": 25,
     "metadata": {},
     "output_type": "execute_result"
    },
    {
     "data": {
      "image/png": "[encoded data removed]",
      "text/plain": [
       "<Figure size 432x288 with 1 Axes>"
      ]
     },
     "metadata": {
      "needs_background": "light"
     },
     "output_type": "display_data"
    }
   ],
   "source": [
    "# Roc curve\n",
    "metrics.plot_roc_curve(best_model_title, X_test.iloc[:,1], y_test)  "
   ]
  },
  {
   "cell_type": "code",
   "execution_count": 26,
   "metadata": {
    "scrolled": true
   },
   "outputs": [
    {
     "data": {
      "text/plain": [
       "0    18260\n",
       "1      490\n",
       "dtype: int64"
      ]
     },
     "execution_count": 26,
     "metadata": {},
     "output_type": "execute_result"
    }
   ],
   "source": [
    "pd.DataFrame(preds_title).value_counts()"
   ]
  },
  {
   "cell_type": "code",
   "execution_count": 27,
   "metadata": {},
   "outputs": [
    {
     "name": "stdout",
     "output_type": "stream",
     "text": [
      "Best Hyperparameters: {'calibrated__base_estimator__C': 0.1}\n",
      "Best AUC: 0.8729049618471088\n",
      "              precision    recall  f1-score   support\n",
      "\n",
      "           0       0.93      0.99      0.96     16916\n",
      "           1       0.76      0.34      0.47      1834\n",
      "\n",
      "    accuracy                           0.93     18750\n",
      "   macro avg       0.85      0.66      0.72     18750\n",
      "weighted avg       0.92      0.93      0.91     18750\n",
      "\n"
     ]
    }
   ],
   "source": [
    "# SVM Model on CLAIMS\n",
    "\n",
    "# search for best hyperparameterisation\n",
    "best_model_claims = grid.fit(X_train.iloc[:,2], y_train)\n",
    "\n",
    "print('Best Hyperparameters: %s' % best_model_claims.best_params_)\n",
    "print('Best AUC: %s' % best_model_claims.best_score_)\n",
    "\n",
    "preds_claims = best_model_claims.predict(X_test.iloc[:,2])\n",
    "\n",
    "print(classification_report(y_test,preds_claims))"
   ]
  },
  {
   "cell_type": "code",
   "execution_count": 35,
   "metadata": {},
   "outputs": [
    {
     "name": "stdout",
     "output_type": "stream",
     "text": [
      "Best Hyperparameters: {'calibrated__base_estimator__C': 0.1}\n",
      "Best AUC: 0.8772344704619293\n",
      "              precision    recall  f1-score   support\n",
      "\n",
      "           0       0.93      0.99      0.96     16916\n",
      "           1       0.76      0.35      0.48      1834\n",
      "\n",
      "    accuracy                           0.93     18750\n",
      "   macro avg       0.85      0.67      0.72     18750\n",
      "weighted avg       0.92      0.93      0.91     18750\n",
      "\n"
     ]
    }
   ],
   "source": [
    "# SVM Model abstract and claims\n",
    "\n",
    "# search for best hyperparameterisation\n",
    "best_model_abs_claims = grid.fit(X_train.iloc[:,0] + \" \" + X_train.iloc[:,2], y_train)\n",
    "\n",
    "print('Best Hyperparameters: %s' % best_model_abs_claims.best_params_)\n",
    "print('Best AUC: %s' % best_model_abs_claims.best_score_)\n",
    "\n",
    "preds_abs_claims  = best_model_abs_claims.predict(X_test.iloc[:,0] + \" \" + X_test.iloc[:,2])\n",
    "\n",
    "print(classification_report(y_test,preds_abs_claims))"
   ]
  },
  {
   "cell_type": "code",
   "execution_count": 34,
   "metadata": {},
   "outputs": [
    {
     "name": "stdout",
     "output_type": "stream",
     "text": [
      "Best Hyperparameters: {'calibrated__base_estimator__C': 0.1}\n",
      "Best AUC: 0.8749176376225748\n",
      "              precision    recall  f1-score   support\n",
      "\n",
      "           0       0.93      0.99      0.96     16916\n",
      "           1       0.76      0.34      0.47      1834\n",
      "\n",
      "    accuracy                           0.93     18750\n",
      "   macro avg       0.85      0.67      0.72     18750\n",
      "weighted avg       0.92      0.93      0.91     18750\n",
      "\n"
     ]
    }
   ],
   "source": [
    "# SVM Model title and claims\n",
    "\n",
    "# search for best hyperparameterisation\n",
    "best_model_title_claims = grid.fit(X_train.iloc[:,1] + \" \" + X_train.iloc[:,2], y_train)\n",
    "\n",
    "print('Best Hyperparameters: %s' % best_model_title_claims.best_params_)\n",
    "print('Best AUC: %s' % best_model_title_claims.best_score_)\n",
    "\n",
    "preds_title_claims = best_model_title_claims.predict(X_test.iloc[:,1] + \" \" + X_test.iloc[:,2])\n",
    "\n",
    "print(classification_report(y_test,preds_title_claims))"
   ]
  },
  {
   "cell_type": "code",
   "execution_count": 33,
   "metadata": {},
   "outputs": [
    {
     "name": "stdout",
     "output_type": "stream",
     "text": [
      "Best Hyperparameters: {'calibrated__base_estimator__C': 0.1}\n",
      "Best AUC: 0.8697712913368771\n",
      "              precision    recall  f1-score   support\n",
      "\n",
      "           0       0.93      0.99      0.96     16916\n",
      "           1       0.74      0.33      0.45      1834\n",
      "\n",
      "    accuracy                           0.92     18750\n",
      "   macro avg       0.84      0.66      0.71     18750\n",
      "weighted avg       0.91      0.92      0.91     18750\n",
      "\n"
     ]
    }
   ],
   "source": [
    "# SVM Model title and abstract\n",
    "\n",
    "# search for best hyperparameterisation\n",
    "best_model_title_abs = grid.fit(X_train.iloc[:,0] + \" \" + X_train.iloc[:,1], y_train)\n",
    "\n",
    "print('Best Hyperparameters: %s' % best_model_title_abs.best_params_)\n",
    "print('Best AUC: %s' % best_model_title_abs.best_score_)\n",
    "\n",
    "preds_title_abs = best_model_title_abs.predict(X_test.iloc[:,0] + \" \" + X_test.iloc[:,1])\n",
    "\n",
    "print(classification_report(y_test,preds_title_abs))"
   ]
  },
  {
   "cell_type": "code",
   "execution_count": null,
   "metadata": {},
   "outputs": [],
   "source": [
    "# SVM Model title and abstract and claims\n",
    "\n",
    "# search for best hyperparameterisation\n",
    "best_model_tac = grid.fit(X_train.iloc[:,0] + \" \" + X_train.iloc[:,1] + \" \" + X_train.iloc[:,2], y_train)\n",
    "\n",
    "print('Best Hyperparameters: %s' % best_model_tac.best_params_)\n",
    "print('Best AUC: %s' % best_model_tac.best_score_)\n",
    "\n",
    "preds_title_abs_claims = best_model_tac.predict(X_test.iloc[:,0] + \" \" + X_test.iloc[:,1]+ \" \" + X_test.iloc[:,2])\n",
    "\n",
    "print(classification_report(y_test,preds_title_abs_claims))"
   ]
  },
  {
   "cell_type": "markdown",
   "metadata": {},
   "source": [
    "## testing set results for title that has the highest precision"
   ]
  },
  {
   "cell_type": "code",
   "execution_count": 30,
   "metadata": {},
   "outputs": [],
   "source": [
    "# load the package\n",
    "test_df = pd.read_csv('/project/test_data.csv')"
   ]
  },
  {
   "cell_type": "code",
   "execution_count": 31,
   "metadata": {},
   "outputs": [],
   "source": [
    "test_y = test_df['yo2']\n",
    "test_X = test_df['biblio.invention_title.text_sw']"
   ]
  },
  {
   "cell_type": "code",
   "execution_count": 32,
   "metadata": {},
   "outputs": [
    {
     "name": "stdout",
     "output_type": "stream",
     "text": [
      "              precision    recall  f1-score   support\n",
      "\n",
      "           0       0.93      0.99      0.96     22676\n",
      "           1       0.74      0.22      0.33      2324\n",
      "\n",
      "    accuracy                           0.92     25000\n",
      "   macro avg       0.83      0.60      0.65     25000\n",
      "weighted avg       0.91      0.92      0.90     25000\n",
      "\n"
     ]
    }
   ],
   "source": [
    "preds_title = best_model_title.predict(test_X)\n",
    "\n",
    "print(classification_report(test_y,preds_title))"
   ]
  },
  {
   "cell_type": "code",
   "execution_count": null,
   "metadata": {},
   "outputs": [],
   "source": []
  }
 ],
 "metadata": {
  "kernelspec": {
   "display_name": "Python 3",
   "language": "python",
   "name": "python3"
  },
  "language_info": {
   "codemirror_mode": {
    "name": "ipython",
    "version": 3
   },
   "file_extension": ".py",
   "mimetype": "text/x-python",
   "name": "python",
   "nbconvert_exporter": "python",
   "pygments_lexer": "ipython3",
   "version": "3.8.2"
  }
 },
 "nbformat": 4,
 "nbformat_minor": 4
}
