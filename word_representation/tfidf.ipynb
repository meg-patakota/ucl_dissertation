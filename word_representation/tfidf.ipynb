{
 "cells": [
  {
   "cell_type": "code",
   "execution_count": 1,
   "metadata": {},
   "outputs": [],
   "source": [
    "# import packages\n",
    "import pandas as pd\n",
    "import json\n",
    "#from flat_table import normalize\n",
    "import ast\n",
    "import re\n",
    "import math\n",
    "\n",
    "import logging\n",
    "import pandas as pd\n",
    "import numpy as np\n",
    "from numpy import random\n",
    "#import gensim\n",
    "import nltk\n",
    "from sklearn.model_selection import train_test_split\n",
    "from sklearn.feature_extraction.text import CountVectorizer, TfidfVectorizer\n",
    "from sklearn.metrics import accuracy_score, confusion_matrix\n",
    "import matplotlib.pyplot as plt\n",
    "from nltk.corpus import stopwords\n",
    "import re"
   ]
  },
  {
   "cell_type": "code",
   "execution_count": 2,
   "metadata": {},
   "outputs": [],
   "source": [
    "# load the package\n",
    "df = pd.read_csv('/project/sample_final.csv')\n",
    "\n",
    "ml_set = df[['abstract.text_sw','biblio.invention_title.text_sw','claims.claims_sw','yo2']]"
   ]
  },
  {
   "cell_type": "markdown",
   "metadata": {},
   "source": [
    "## Training and Validation split"
   ]
  },
  {
   "cell_type": "code",
   "execution_count": null,
   "metadata": {},
   "outputs": [],
   "source": [
    "# splitting data to training and test set\n",
    "from sklearn.model_selection import train_test_split\n",
    "train, test = train_test_split(ml_set, test_size=0.25, random_state = 42)\n",
    "\n",
    "# train.to_csv(\"train_data.csv\")\n",
    "test.to_csv(\"test_data.csv\")"
   ]
  },
  {
   "cell_type": "code",
   "execution_count": 3,
   "metadata": {},
   "outputs": [],
   "source": [
    "# load training data\n",
    "df = pd.read_csv('/project/train_data.csv')"
   ]
  },
  {
   "cell_type": "code",
   "execution_count": 4,
   "metadata": {},
   "outputs": [],
   "source": [
    "# split train and test\n",
    "y = df['yo2']\n",
    "X = df.drop(columns = 'yo2')"
   ]
  },
  {
   "cell_type": "code",
   "execution_count": 5,
   "metadata": {},
   "outputs": [],
   "source": [
    "# train and validation split\n",
    "X_train, X_test, y_train, y_test = train_test_split(X, y, test_size=0.25, random_state = 42)"
   ]
  },
  {
   "cell_type": "code",
   "execution_count": 6,
   "metadata": {},
   "outputs": [
    {
     "data": {
      "text/plain": [
       "(56250, 4)"
      ]
     },
     "execution_count": 6,
     "metadata": {},
     "output_type": "execute_result"
    }
   ],
   "source": [
    "X_train.shape"
   ]
  },
  {
   "cell_type": "code",
   "execution_count": 7,
   "metadata": {},
   "outputs": [],
   "source": [
    "from sklearn.svm import LinearSVC\n",
    "from sklearn.model_selection import GridSearchCV\n",
    "from sklearn.calibration import CalibratedClassifierCV\n",
    "from sklearn.feature_extraction.text import TfidfVectorizer\n",
    "from sklearn.pipeline import Pipeline\n",
    "from sklearn.metrics import classification_report\n",
    "\n",
    "# svm\n",
    "algorithm = LinearSVC(class_weight='balanced',random_state=42)\n",
    "\n",
    "# define paramater space\n",
    "space = dict()\n",
    "space['calibrated__base_estimator__C'] = [0.1, 1, 10, 100]\n",
    "\n",
    "# choose number of folds\n",
    "n_folds = 5\n",
    "\n",
    "train_pipe = Pipeline([('pipe_tfidf', TfidfVectorizer()),\n",
    "                ('calibrated', CalibratedClassifierCV(base_estimator=algorithm, cv=5))\n",
    "                 ])\n",
    "\n",
    "# perform hyperparameter tuning with randomised grid search, plus\n",
    "# stratified cross validation\n",
    "grid = GridSearchCV(estimator=train_pipe,\n",
    "                  param_grid=space,\n",
    "                  scoring=\"roc_auc\",\n",
    "                  n_jobs=-1,\n",
    "                  cv=n_folds)"
   ]
  },
  {
   "cell_type": "code",
   "execution_count": 45,
   "metadata": {
    "scrolled": false
   },
   "outputs": [
    {
     "name": "stdout",
     "output_type": "stream",
     "text": [
      "Best Hyperparameters: {'calibrated__base_estimator__C': 0.1}\n",
      "Best AUC: 0.862732439584445\n",
      "              precision    recall  f1-score   support\n",
      "\n",
      "           0       0.93      0.99      0.96     16977\n",
      "           1       0.74      0.30      0.43      1773\n",
      "\n",
      "    accuracy                           0.92     18750\n",
      "   macro avg       0.83      0.65      0.70     18750\n",
      "weighted avg       0.91      0.92      0.91     18750\n",
      "\n"
     ]
    }
   ],
   "source": [
    "# SVM Model on ABSTRACT\n",
    "\n",
    "# search for best hyperparameterisation\n",
    "best_model_abs = grid.fit(X_train.iloc[:,0], y_train)\n",
    "\n",
    "print('Best Hyperparameters: %s' % best_model_abs.best_params_)\n",
    "print('Best AUC: %s' % best_model_abs.best_score_)\n",
    "\n",
    "preds_abs = best_model_abs.predict(X_test.iloc[:,0])\n",
    "\n",
    "print(classification_report(y_test,preds_abs))"
   ]
  },
  {
   "cell_type": "code",
   "execution_count": 184,
   "metadata": {
    "scrolled": false
   },
   "outputs": [
    {
     "name": "stdout",
     "output_type": "stream",
     "text": [
      "Best Hyperparameters: {'calibrated__base_estimator__C': 0.1}\n",
      "Best AUC: 0.8619973132963967\n",
      "              precision    recall  f1-score   support\n",
      "\n",
      "           0       0.93      0.99      0.96     16916\n",
      "           1       0.73      0.32      0.44      1834\n",
      "\n",
      "    accuracy                           0.92     18750\n",
      "   macro avg       0.83      0.65      0.70     18750\n",
      "weighted avg       0.91      0.92      0.91     18750\n",
      "\n"
     ]
    }
   ],
   "source": [
    "# SVM model on TITLE\n",
    "\n",
    "# search for best hyperparameterisation\n",
    "best_model_title = grid.fit(X_train.iloc[:,1], y_train)\n",
    "\n",
    "print('Best Hyperparameters: %s' % best_model_title.best_params_)\n",
    "print('Best AUC: %s' % best_model_title.best_score_)\n",
    "\n",
    "preds_title = best_model_title.predict(X_test.iloc[:,1])\n",
    "\n",
    "print(classification_report(y_test,preds_title))"
   ]
  },
  {
   "cell_type": "code",
   "execution_count": 185,
   "metadata": {},
   "outputs": [],
   "source": [
    "# pd.DataFrame(preds_title[:,1]).hist(bins=50)"
   ]
  },
  {
   "cell_type": "code",
   "execution_count": 160,
   "metadata": {},
   "outputs": [
    {
     "data": {
      "text/plain": [
       "<sklearn.metrics._plot.precision_recall_curve.PrecisionRecallDisplay at 0x7f8534711190>"
      ]
     },
     "execution_count": 160,
     "metadata": {},
     "output_type": "execute_result"
    },
    {
     "data": {
      "image/png": "[encoded data removed]",
      "text/plain": [
       "<Figure size 432x288 with 1 Axes>"
      ]
     },
     "metadata": {
      "needs_background": "light"
     },
     "output_type": "display_data"
    }
   ],
   "source": [
    "# precision and recall plot\n",
    "from sklearn.metrics import precision_recall_curve\n",
    "from sklearn.metrics import plot_precision_recall_curve\n",
    "import matplotlib.pyplot as plt\n",
    "plot_precision_recall_curve(best_model_title, X_test.iloc[:,1], y_test)"
   ]
  },
  {
   "cell_type": "code",
   "execution_count": 151,
   "metadata": {
    "scrolled": true
   },
   "outputs": [
    {
     "data": {
      "text/plain": [
       "array([[16704,   212],\n",
       "       [ 1256,   578]])"
      ]
     },
     "execution_count": 151,
     "metadata": {},
     "output_type": "execute_result"
    }
   ],
   "source": [
    "# confusion matrix \n",
    "from sklearn.metrics import confusion_matrix\n",
    "confusion_matrix(y_test,preds_title)"
   ]
  },
  {
   "cell_type": "code",
   "execution_count": 150,
   "metadata": {},
   "outputs": [
    {
     "data": {
      "image/png": "[encoded data removed]",
      "text/plain": [
       "<Figure size 432x288 with 2 Axes>"
      ]
     },
     "metadata": {
      "needs_background": "light"
     },
     "output_type": "display_data"
    }
   ],
   "source": [
    "# confusion matrix plot\n",
    "metrics.plot_confusion_matrix(best_model_title, X_test.iloc[:,1], y_test);"
   ]
  },
  {
   "cell_type": "code",
   "execution_count": 152,
   "metadata": {},
   "outputs": [
    {
     "data": {
      "text/plain": [
       "<sklearn.metrics._plot.roc_curve.RocCurveDisplay at 0x7f854c17f7c0>"
      ]
     },
     "execution_count": 152,
     "metadata": {},
     "output_type": "execute_result"
    },
    {
     "data": {
      "image/png": "[encoded data removed]",
      "text/plain": [
       "<Figure size 432x288 with 1 Axes>"
      ]
     },
     "metadata": {
      "needs_background": "light"
     },
     "output_type": "display_data"
    }
   ],
   "source": [
    "# Roc curve\n",
    "metrics.plot_roc_curve(best_model_title, X_test.iloc[:,1], y_test)  "
   ]
  },
  {
   "cell_type": "code",
   "execution_count": 169,
   "metadata": {
    "scrolled": true
   },
   "outputs": [
    {
     "data": {
      "text/plain": [
       "0    17960\n",
       "1      790\n",
       "dtype: int64"
      ]
     },
     "execution_count": 169,
     "metadata": {},
     "output_type": "execute_result"
    }
   ],
   "source": [
    "pd.DataFrame(preds_title).value_counts()"
   ]
  },
  {
   "cell_type": "code",
   "execution_count": 153,
   "metadata": {},
   "outputs": [
    {
     "name": "stdout",
     "output_type": "stream",
     "text": [
      "Best Hyperparameters: {'calibrated__base_estimator__C': 0.1}\n",
      "Best AUC: 0.7895042673463909\n",
      "              precision    recall  f1-score   support\n",
      "\n",
      "           0       0.92      0.99      0.96     16916\n",
      "           1       0.76      0.20      0.32      1834\n",
      "\n",
      "    accuracy                           0.92     18750\n",
      "   macro avg       0.84      0.60      0.64     18750\n",
      "weighted avg       0.90      0.92      0.89     18750\n",
      "\n"
     ]
    }
   ],
   "source": [
    "# SVM Model on CLAIMS\n",
    "\n",
    "# search for best hyperparameterisation\n",
    "best_model_claims = grid.fit(X_train.iloc[:,2], y_train)\n",
    "\n",
    "print('Best Hyperparameters: %s' % best_model_claims.best_params_)\n",
    "print('Best AUC: %s' % best_model_claims.best_score_)\n",
    "\n",
    "preds_claims = best_model_claims.predict(X_test.iloc[:,2])\n",
    "\n",
    "print(classification_report(y_test,preds_claims))"
   ]
  },
  {
   "cell_type": "code",
   "execution_count": null,
   "metadata": {},
   "outputs": [],
   "source": [
    "# SVM Model abstract and claims\n",
    "\n",
    "# search for best hyperparameterisation\n",
    "best_model_abs_claims = grid.fit(X_train.iloc[:,0] + \" \" + X_train.iloc[:,2], y_train)\n",
    "\n",
    "print('Best Hyperparameters: %s' % best_model_abs_claims.best_params_)\n",
    "print('Best AUC: %s' % best_model_abs_claims.best_score_)\n",
    "\n",
    "preds_abs_claims  = best_model_abs_claims.predict(X_test.iloc[:,0] + \" \" + X_test.iloc[:,2])\n",
    "\n",
    "print(classification_report(y_test,preds_abs_claims))"
   ]
  },
  {
   "cell_type": "code",
   "execution_count": null,
   "metadata": {},
   "outputs": [],
   "source": [
    "# SVM Model title and claims\n",
    "\n",
    "# search for best hyperparameterisation\n",
    "best_model_title_claims = grid.fit(X_train.iloc[:,1] + \" \" + X_train.iloc[:,2], y_train)\n",
    "\n",
    "print('Best Hyperparameters: %s' % best_model_title_claims.best_params_)\n",
    "print('Best AUC: %s' % best_model_title_claims.best_score_)\n",
    "\n",
    "preds_title_claims = best_model_title_claims.predict(X_test.iloc[:,1] + \" \" + X_test.iloc[:,2])\n",
    "\n",
    "print(classification_report(y_test,preds_title_claims))"
   ]
  },
  {
   "cell_type": "code",
   "execution_count": null,
   "metadata": {},
   "outputs": [],
   "source": [
    "# SVM Model title and abstract\n",
    "\n",
    "# search for best hyperparameterisation\n",
    "best_model_title_abs = grid.fit(X_train.iloc[:,0] + \" \" + X_train.iloc[:,1], y_train)\n",
    "\n",
    "print('Best Hyperparameters: %s' % best_model_title_abs.best_params_)\n",
    "print('Best AUC: %s' % best_model_title_abs.best_score_)\n",
    "\n",
    "preds_title_abs = best_model_title_abs.predict(X_test.iloc[:,0] + \" \" + X_test.iloc[:,1])\n",
    "\n",
    "print(classification_report(y_test,preds_title_abs))"
   ]
  },
  {
   "cell_type": "code",
   "execution_count": null,
   "metadata": {},
   "outputs": [],
   "source": [
    "# SVM Model title and abstract and claims\n",
    "\n",
    "# search for best hyperparameterisation\n",
    "best_model_tac = grid.fit(X_train.iloc[:,0] + \" \" + X_train.iloc[:,1] + \" \" + X_train.iloc[:,2], y_train)\n",
    "\n",
    "print('Best Hyperparameters: %s' % best_model_tac.best_params_)\n",
    "print('Best AUC: %s' % best_model_tac.best_score_)\n",
    "\n",
    "preds_title_abs_claims = best_model_tac.predict(X_test.iloc[:,0] + \" \" + X_test.iloc[:,1]+ \" \" + X_test.iloc[:,2])\n",
    "\n",
    "print(classification_report(y_test,preds_title_abs_claims))"
   ]
  }
 ],
 "metadata": {
  "kernelspec": {
   "display_name": "Python 3",
   "language": "python",
   "name": "python3"
  },
  "language_info": {
   "codemirror_mode": {
    "name": "ipython",
    "version": 3
   },
   "file_extension": ".py",
   "mimetype": "text/x-python",
   "name": "python",
   "nbconvert_exporter": "python",
   "pygments_lexer": "ipython3",
   "version": "3.8.2"
  }
 },
 "nbformat": 4,
 "nbformat_minor": 4
}
